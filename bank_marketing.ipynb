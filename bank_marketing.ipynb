{
  "cells": [
    {
      "cell_type": "code",
      "execution_count": null,
      "metadata": {
        "colab": {
          "base_uri": "https://localhost:8080/",
          "height": 270
        },
        "id": "7fMEl40D3jqI",
        "outputId": "4d509870-d6ce-4748-8741-91fd56590884"
      },
      "outputs": [
        {
          "data": {
            "text/html": [
              "\n",
              "  <div id=\"df-387b5787-d228-42e8-beda-6b57fc91db32\">\n",
              "    <div class=\"colab-df-container\">\n",
              "      <div>\n",
              "<style scoped>\n",
              "    .dataframe tbody tr th:only-of-type {\n",
              "        vertical-align: middle;\n",
              "    }\n",
              "\n",
              "    .dataframe tbody tr th {\n",
              "        vertical-align: top;\n",
              "    }\n",
              "\n",
              "    .dataframe thead th {\n",
              "        text-align: right;\n",
              "    }\n",
              "</style>\n",
              "<table border=\"1\" class=\"dataframe\">\n",
              "  <thead>\n",
              "    <tr style=\"text-align: right;\">\n",
              "      <th></th>\n",
              "      <th>age</th>\n",
              "      <th>job</th>\n",
              "      <th>marital</th>\n",
              "      <th>education</th>\n",
              "      <th>default</th>\n",
              "      <th>balance</th>\n",
              "      <th>housing</th>\n",
              "      <th>loan</th>\n",
              "      <th>contact</th>\n",
              "      <th>day</th>\n",
              "      <th>month</th>\n",
              "      <th>duration</th>\n",
              "      <th>campaign</th>\n",
              "      <th>pdays</th>\n",
              "      <th>previous</th>\n",
              "      <th>poutcome</th>\n",
              "      <th>deposit</th>\n",
              "    </tr>\n",
              "  </thead>\n",
              "  <tbody>\n",
              "    <tr>\n",
              "      <th>0</th>\n",
              "      <td>59</td>\n",
              "      <td>admin</td>\n",
              "      <td>married</td>\n",
              "      <td>secondary</td>\n",
              "      <td>no</td>\n",
              "      <td>2343</td>\n",
              "      <td>yes</td>\n",
              "      <td>no</td>\n",
              "      <td>unknown</td>\n",
              "      <td>5</td>\n",
              "      <td>may</td>\n",
              "      <td>1042</td>\n",
              "      <td>1</td>\n",
              "      <td>-1</td>\n",
              "      <td>0</td>\n",
              "      <td>unknown</td>\n",
              "      <td>yes</td>\n",
              "    </tr>\n",
              "    <tr>\n",
              "      <th>1</th>\n",
              "      <td>56</td>\n",
              "      <td>admin</td>\n",
              "      <td>married</td>\n",
              "      <td>secondary</td>\n",
              "      <td>no</td>\n",
              "      <td>45</td>\n",
              "      <td>no</td>\n",
              "      <td>no</td>\n",
              "      <td>unknown</td>\n",
              "      <td>5</td>\n",
              "      <td>may</td>\n",
              "      <td>1467</td>\n",
              "      <td>1</td>\n",
              "      <td>-1</td>\n",
              "      <td>0</td>\n",
              "      <td>unknown</td>\n",
              "      <td>yes</td>\n",
              "    </tr>\n",
              "    <tr>\n",
              "      <th>2</th>\n",
              "      <td>41</td>\n",
              "      <td>technician</td>\n",
              "      <td>married</td>\n",
              "      <td>secondary</td>\n",
              "      <td>no</td>\n",
              "      <td>1270</td>\n",
              "      <td>yes</td>\n",
              "      <td>no</td>\n",
              "      <td>unknown</td>\n",
              "      <td>5</td>\n",
              "      <td>may</td>\n",
              "      <td>1389</td>\n",
              "      <td>1</td>\n",
              "      <td>-1</td>\n",
              "      <td>0</td>\n",
              "      <td>unknown</td>\n",
              "      <td>yes</td>\n",
              "    </tr>\n",
              "    <tr>\n",
              "      <th>3</th>\n",
              "      <td>55</td>\n",
              "      <td>services</td>\n",
              "      <td>married</td>\n",
              "      <td>secondary</td>\n",
              "      <td>no</td>\n",
              "      <td>2476</td>\n",
              "      <td>yes</td>\n",
              "      <td>no</td>\n",
              "      <td>unknown</td>\n",
              "      <td>5</td>\n",
              "      <td>may</td>\n",
              "      <td>579</td>\n",
              "      <td>1</td>\n",
              "      <td>-1</td>\n",
              "      <td>0</td>\n",
              "      <td>unknown</td>\n",
              "      <td>yes</td>\n",
              "    </tr>\n",
              "    <tr>\n",
              "      <th>4</th>\n",
              "      <td>54</td>\n",
              "      <td>admin</td>\n",
              "      <td>married</td>\n",
              "      <td>tertiary</td>\n",
              "      <td>no</td>\n",
              "      <td>184</td>\n",
              "      <td>no</td>\n",
              "      <td>no</td>\n",
              "      <td>unknown</td>\n",
              "      <td>5</td>\n",
              "      <td>may</td>\n",
              "      <td>673</td>\n",
              "      <td>2</td>\n",
              "      <td>-1</td>\n",
              "      <td>0</td>\n",
              "      <td>unknown</td>\n",
              "      <td>yes</td>\n",
              "    </tr>\n",
              "  </tbody>\n",
              "</table>\n",
              "</div>\n",
              "      <button class=\"colab-df-convert\" onclick=\"convertToInteractive('df-387b5787-d228-42e8-beda-6b57fc91db32')\"\n",
              "              title=\"Convert this dataframe to an interactive table.\"\n",
              "              style=\"display:none;\">\n",
              "        \n",
              "  <svg xmlns=\"http://www.w3.org/2000/svg\" height=\"24px\"viewBox=\"0 0 24 24\"\n",
              "       width=\"24px\">\n",
              "    <path d=\"M0 0h24v24H0V0z\" fill=\"none\"/>\n",
              "    <path d=\"M18.56 5.44l.94 2.06.94-2.06 2.06-.94-2.06-.94-.94-2.06-.94 2.06-2.06.94zm-11 1L8.5 8.5l.94-2.06 2.06-.94-2.06-.94L8.5 2.5l-.94 2.06-2.06.94zm10 10l.94 2.06.94-2.06 2.06-.94-2.06-.94-.94-2.06-.94 2.06-2.06.94z\"/><path d=\"M17.41 7.96l-1.37-1.37c-.4-.4-.92-.59-1.43-.59-.52 0-1.04.2-1.43.59L10.3 9.45l-7.72 7.72c-.78.78-.78 2.05 0 2.83L4 21.41c.39.39.9.59 1.41.59.51 0 1.02-.2 1.41-.59l7.78-7.78 2.81-2.81c.8-.78.8-2.07 0-2.86zM5.41 20L4 18.59l7.72-7.72 1.47 1.35L5.41 20z\"/>\n",
              "  </svg>\n",
              "      </button>\n",
              "      \n",
              "  <style>\n",
              "    .colab-df-container {\n",
              "      display:flex;\n",
              "      flex-wrap:wrap;\n",
              "      gap: 12px;\n",
              "    }\n",
              "\n",
              "    .colab-df-convert {\n",
              "      background-color: #E8F0FE;\n",
              "      border: none;\n",
              "      border-radius: 50%;\n",
              "      cursor: pointer;\n",
              "      display: none;\n",
              "      fill: #1967D2;\n",
              "      height: 32px;\n",
              "      padding: 0 0 0 0;\n",
              "      width: 32px;\n",
              "    }\n",
              "\n",
              "    .colab-df-convert:hover {\n",
              "      background-color: #E2EBFA;\n",
              "      box-shadow: 0px 1px 2px rgba(60, 64, 67, 0.3), 0px 1px 3px 1px rgba(60, 64, 67, 0.15);\n",
              "      fill: #174EA6;\n",
              "    }\n",
              "\n",
              "    [theme=dark] .colab-df-convert {\n",
              "      background-color: #3B4455;\n",
              "      fill: #D2E3FC;\n",
              "    }\n",
              "\n",
              "    [theme=dark] .colab-df-convert:hover {\n",
              "      background-color: #434B5C;\n",
              "      box-shadow: 0px 1px 3px 1px rgba(0, 0, 0, 0.15);\n",
              "      filter: drop-shadow(0px 1px 2px rgba(0, 0, 0, 0.3));\n",
              "      fill: #FFFFFF;\n",
              "    }\n",
              "  </style>\n",
              "\n",
              "      <script>\n",
              "        const buttonEl =\n",
              "          document.querySelector('#df-387b5787-d228-42e8-beda-6b57fc91db32 button.colab-df-convert');\n",
              "        buttonEl.style.display =\n",
              "          google.colab.kernel.accessAllowed ? 'block' : 'none';\n",
              "\n",
              "        async function convertToInteractive(key) {\n",
              "          const element = document.querySelector('#df-387b5787-d228-42e8-beda-6b57fc91db32');\n",
              "          const dataTable =\n",
              "            await google.colab.kernel.invokeFunction('convertToInteractive',\n",
              "                                                     [key], {});\n",
              "          if (!dataTable) return;\n",
              "\n",
              "          const docLinkHtml = 'Like what you see? Visit the ' +\n",
              "            '<a target=\"_blank\" href=https://colab.research.google.com/notebooks/data_table.ipynb>data table notebook</a>'\n",
              "            + ' to learn more about interactive tables.';\n",
              "          element.innerHTML = '';\n",
              "          dataTable['output_type'] = 'display_data';\n",
              "          await google.colab.output.renderOutput(dataTable, element);\n",
              "          const docLink = document.createElement('div');\n",
              "          docLink.innerHTML = docLinkHtml;\n",
              "          element.appendChild(docLink);\n",
              "        }\n",
              "      </script>\n",
              "    </div>\n",
              "  </div>\n",
              "  "
            ],
            "text/plain": [
              "   age         job  marital  education default  balance housing loan  contact  \\\n",
              "0   59       admin  married  secondary      no     2343     yes   no  unknown   \n",
              "1   56       admin  married  secondary      no       45      no   no  unknown   \n",
              "2   41  technician  married  secondary      no     1270     yes   no  unknown   \n",
              "3   55    services  married  secondary      no     2476     yes   no  unknown   \n",
              "4   54       admin  married   tertiary      no      184      no   no  unknown   \n",
              "\n",
              "   day month  duration  campaign  pdays  previous poutcome deposit  \n",
              "0    5   may      1042         1     -1         0  unknown     yes  \n",
              "1    5   may      1467         1     -1         0  unknown     yes  \n",
              "2    5   may      1389         1     -1         0  unknown     yes  \n",
              "3    5   may       579         1     -1         0  unknown     yes  \n",
              "4    5   may       673         2     -1         0  unknown     yes  "
            ]
          },
          "execution_count": 182,
          "metadata": {},
          "output_type": "execute_result"
        }
      ],
      "source": [
        "import numpy as np\n",
        "import pandas as pd\n",
        "import matplotlib.pyplot as plt\n",
        "import seaborn as sns\n",
        "%matplotlib inline\n",
        "import warnings\n",
        "import time\n",
        "warnings.filterwarnings('ignore')\n",
        "\n",
        "data=pd.read_csv('bank.csv')\n",
        "#y=data['deposit']\n",
        "#y.replace(('yes', 'no'), (1, 0), inplace=True)\n",
        "#bank=data.drop('deposit', axis=1)\n",
        "data.head()"
      ]
    },
    {
      "cell_type": "code",
      "execution_count": null,
      "metadata": {
        "colab": {
          "base_uri": "https://localhost:8080/",
          "height": 300
        },
        "id": "vpld3AeMq1XH",
        "outputId": "d8dacdb7-ed9e-43cf-ef02-fde7de9c42aa"
      },
      "outputs": [
        {
          "data": {
            "text/html": [
              "\n",
              "  <div id=\"df-49338258-b304-4fc9-977f-4a0863c90b47\">\n",
              "    <div class=\"colab-df-container\">\n",
              "      <div>\n",
              "<style scoped>\n",
              "    .dataframe tbody tr th:only-of-type {\n",
              "        vertical-align: middle;\n",
              "    }\n",
              "\n",
              "    .dataframe tbody tr th {\n",
              "        vertical-align: top;\n",
              "    }\n",
              "\n",
              "    .dataframe thead th {\n",
              "        text-align: right;\n",
              "    }\n",
              "</style>\n",
              "<table border=\"1\" class=\"dataframe\">\n",
              "  <thead>\n",
              "    <tr style=\"text-align: right;\">\n",
              "      <th></th>\n",
              "      <th>age</th>\n",
              "      <th>balance</th>\n",
              "      <th>day</th>\n",
              "      <th>duration</th>\n",
              "      <th>campaign</th>\n",
              "      <th>pdays</th>\n",
              "      <th>previous</th>\n",
              "    </tr>\n",
              "  </thead>\n",
              "  <tbody>\n",
              "    <tr>\n",
              "      <th>count</th>\n",
              "      <td>11162.000000</td>\n",
              "      <td>11162.000000</td>\n",
              "      <td>11162.000000</td>\n",
              "      <td>11162.000000</td>\n",
              "      <td>11162.000000</td>\n",
              "      <td>11162.000000</td>\n",
              "      <td>11162.000000</td>\n",
              "    </tr>\n",
              "    <tr>\n",
              "      <th>mean</th>\n",
              "      <td>41.231948</td>\n",
              "      <td>1528.538524</td>\n",
              "      <td>15.658036</td>\n",
              "      <td>371.993818</td>\n",
              "      <td>2.508421</td>\n",
              "      <td>51.330407</td>\n",
              "      <td>0.832557</td>\n",
              "    </tr>\n",
              "    <tr>\n",
              "      <th>std</th>\n",
              "      <td>11.913369</td>\n",
              "      <td>3225.413326</td>\n",
              "      <td>8.420740</td>\n",
              "      <td>347.128386</td>\n",
              "      <td>2.722077</td>\n",
              "      <td>108.758282</td>\n",
              "      <td>2.292007</td>\n",
              "    </tr>\n",
              "    <tr>\n",
              "      <th>min</th>\n",
              "      <td>18.000000</td>\n",
              "      <td>-6847.000000</td>\n",
              "      <td>1.000000</td>\n",
              "      <td>2.000000</td>\n",
              "      <td>1.000000</td>\n",
              "      <td>-1.000000</td>\n",
              "      <td>0.000000</td>\n",
              "    </tr>\n",
              "    <tr>\n",
              "      <th>25%</th>\n",
              "      <td>32.000000</td>\n",
              "      <td>122.000000</td>\n",
              "      <td>8.000000</td>\n",
              "      <td>138.000000</td>\n",
              "      <td>1.000000</td>\n",
              "      <td>-1.000000</td>\n",
              "      <td>0.000000</td>\n",
              "    </tr>\n",
              "    <tr>\n",
              "      <th>50%</th>\n",
              "      <td>39.000000</td>\n",
              "      <td>550.000000</td>\n",
              "      <td>15.000000</td>\n",
              "      <td>255.000000</td>\n",
              "      <td>2.000000</td>\n",
              "      <td>-1.000000</td>\n",
              "      <td>0.000000</td>\n",
              "    </tr>\n",
              "    <tr>\n",
              "      <th>75%</th>\n",
              "      <td>49.000000</td>\n",
              "      <td>1708.000000</td>\n",
              "      <td>22.000000</td>\n",
              "      <td>496.000000</td>\n",
              "      <td>3.000000</td>\n",
              "      <td>20.750000</td>\n",
              "      <td>1.000000</td>\n",
              "    </tr>\n",
              "    <tr>\n",
              "      <th>max</th>\n",
              "      <td>95.000000</td>\n",
              "      <td>81204.000000</td>\n",
              "      <td>31.000000</td>\n",
              "      <td>3881.000000</td>\n",
              "      <td>63.000000</td>\n",
              "      <td>854.000000</td>\n",
              "      <td>58.000000</td>\n",
              "    </tr>\n",
              "  </tbody>\n",
              "</table>\n",
              "</div>\n",
              "      <button class=\"colab-df-convert\" onclick=\"convertToInteractive('df-49338258-b304-4fc9-977f-4a0863c90b47')\"\n",
              "              title=\"Convert this dataframe to an interactive table.\"\n",
              "              style=\"display:none;\">\n",
              "        \n",
              "  <svg xmlns=\"http://www.w3.org/2000/svg\" height=\"24px\"viewBox=\"0 0 24 24\"\n",
              "       width=\"24px\">\n",
              "    <path d=\"M0 0h24v24H0V0z\" fill=\"none\"/>\n",
              "    <path d=\"M18.56 5.44l.94 2.06.94-2.06 2.06-.94-2.06-.94-.94-2.06-.94 2.06-2.06.94zm-11 1L8.5 8.5l.94-2.06 2.06-.94-2.06-.94L8.5 2.5l-.94 2.06-2.06.94zm10 10l.94 2.06.94-2.06 2.06-.94-2.06-.94-.94-2.06-.94 2.06-2.06.94z\"/><path d=\"M17.41 7.96l-1.37-1.37c-.4-.4-.92-.59-1.43-.59-.52 0-1.04.2-1.43.59L10.3 9.45l-7.72 7.72c-.78.78-.78 2.05 0 2.83L4 21.41c.39.39.9.59 1.41.59.51 0 1.02-.2 1.41-.59l7.78-7.78 2.81-2.81c.8-.78.8-2.07 0-2.86zM5.41 20L4 18.59l7.72-7.72 1.47 1.35L5.41 20z\"/>\n",
              "  </svg>\n",
              "      </button>\n",
              "      \n",
              "  <style>\n",
              "    .colab-df-container {\n",
              "      display:flex;\n",
              "      flex-wrap:wrap;\n",
              "      gap: 12px;\n",
              "    }\n",
              "\n",
              "    .colab-df-convert {\n",
              "      background-color: #E8F0FE;\n",
              "      border: none;\n",
              "      border-radius: 50%;\n",
              "      cursor: pointer;\n",
              "      display: none;\n",
              "      fill: #1967D2;\n",
              "      height: 32px;\n",
              "      padding: 0 0 0 0;\n",
              "      width: 32px;\n",
              "    }\n",
              "\n",
              "    .colab-df-convert:hover {\n",
              "      background-color: #E2EBFA;\n",
              "      box-shadow: 0px 1px 2px rgba(60, 64, 67, 0.3), 0px 1px 3px 1px rgba(60, 64, 67, 0.15);\n",
              "      fill: #174EA6;\n",
              "    }\n",
              "\n",
              "    [theme=dark] .colab-df-convert {\n",
              "      background-color: #3B4455;\n",
              "      fill: #D2E3FC;\n",
              "    }\n",
              "\n",
              "    [theme=dark] .colab-df-convert:hover {\n",
              "      background-color: #434B5C;\n",
              "      box-shadow: 0px 1px 3px 1px rgba(0, 0, 0, 0.15);\n",
              "      filter: drop-shadow(0px 1px 2px rgba(0, 0, 0, 0.3));\n",
              "      fill: #FFFFFF;\n",
              "    }\n",
              "  </style>\n",
              "\n",
              "      <script>\n",
              "        const buttonEl =\n",
              "          document.querySelector('#df-49338258-b304-4fc9-977f-4a0863c90b47 button.colab-df-convert');\n",
              "        buttonEl.style.display =\n",
              "          google.colab.kernel.accessAllowed ? 'block' : 'none';\n",
              "\n",
              "        async function convertToInteractive(key) {\n",
              "          const element = document.querySelector('#df-49338258-b304-4fc9-977f-4a0863c90b47');\n",
              "          const dataTable =\n",
              "            await google.colab.kernel.invokeFunction('convertToInteractive',\n",
              "                                                     [key], {});\n",
              "          if (!dataTable) return;\n",
              "\n",
              "          const docLinkHtml = 'Like what you see? Visit the ' +\n",
              "            '<a target=\"_blank\" href=https://colab.research.google.com/notebooks/data_table.ipynb>data table notebook</a>'\n",
              "            + ' to learn more about interactive tables.';\n",
              "          element.innerHTML = '';\n",
              "          dataTable['output_type'] = 'display_data';\n",
              "          await google.colab.output.renderOutput(dataTable, element);\n",
              "          const docLink = document.createElement('div');\n",
              "          docLink.innerHTML = docLinkHtml;\n",
              "          element.appendChild(docLink);\n",
              "        }\n",
              "      </script>\n",
              "    </div>\n",
              "  </div>\n",
              "  "
            ],
            "text/plain": [
              "                age       balance           day      duration      campaign  \\\n",
              "count  11162.000000  11162.000000  11162.000000  11162.000000  11162.000000   \n",
              "mean      41.231948   1528.538524     15.658036    371.993818      2.508421   \n",
              "std       11.913369   3225.413326      8.420740    347.128386      2.722077   \n",
              "min       18.000000  -6847.000000      1.000000      2.000000      1.000000   \n",
              "25%       32.000000    122.000000      8.000000    138.000000      1.000000   \n",
              "50%       39.000000    550.000000     15.000000    255.000000      2.000000   \n",
              "75%       49.000000   1708.000000     22.000000    496.000000      3.000000   \n",
              "max       95.000000  81204.000000     31.000000   3881.000000     63.000000   \n",
              "\n",
              "              pdays      previous  \n",
              "count  11162.000000  11162.000000  \n",
              "mean      51.330407      0.832557  \n",
              "std      108.758282      2.292007  \n",
              "min       -1.000000      0.000000  \n",
              "25%       -1.000000      0.000000  \n",
              "50%       -1.000000      0.000000  \n",
              "75%       20.750000      1.000000  \n",
              "max      854.000000     58.000000  "
            ]
          },
          "execution_count": 183,
          "metadata": {},
          "output_type": "execute_result"
        }
      ],
      "source": [
        "data.describe()"
      ]
    },
    {
      "cell_type": "code",
      "execution_count": null,
      "metadata": {
        "id": "YYwnqgutwxzx"
      },
      "outputs": [],
      "source": [
        "#outlier analysis\n",
        "from collections import Counter\n",
        "def detect_outliers(data,features):\n",
        "    outlier_indices = []\n",
        "    for c in features:\n",
        "        # 1st quartile\n",
        "        Q1 = np.percentile(data[c],25)\n",
        "        # 3rd quartile\n",
        "        Q3 = np.percentile(data[c],75)\n",
        "        # IQR\n",
        "        IQR = Q3 - Q1\n",
        "        # Outlier step\n",
        "        outlier_step = IQR * 1.5\n",
        "        # detect outlier and their indeces\n",
        "        outlier_list_col = data[(data[c] < Q1 - outlier_step) | (data[c] > Q3 + outlier_step)].index\n",
        "        # store indeces\n",
        "        outlier_indices.extend(outlier_list_col)\n",
        "    \n",
        "    outlier_indices = Counter(outlier_indices)\n",
        "    multiple_outliers = list(i for i, v in outlier_indices.items() if v > 2)\n",
        "    \n",
        "    return multiple_outliers"
      ]
    },
    {
      "cell_type": "code",
      "execution_count": null,
      "metadata": {
        "colab": {
          "base_uri": "https://localhost:8080/",
          "height": 145
        },
        "id": "DwLvkIzkxGUu",
        "outputId": "b0eb52eb-3e45-44ed-b540-3c317a232373"
      },
      "outputs": [
        {
          "data": {
            "text/html": [
              "\n",
              "  <div id=\"df-5533a2a7-3d5d-4ea2-9e4c-fad8322bde37\">\n",
              "    <div class=\"colab-df-container\">\n",
              "      <div>\n",
              "<style scoped>\n",
              "    .dataframe tbody tr th:only-of-type {\n",
              "        vertical-align: middle;\n",
              "    }\n",
              "\n",
              "    .dataframe tbody tr th {\n",
              "        vertical-align: top;\n",
              "    }\n",
              "\n",
              "    .dataframe thead th {\n",
              "        text-align: right;\n",
              "    }\n",
              "</style>\n",
              "<table border=\"1\" class=\"dataframe\">\n",
              "  <thead>\n",
              "    <tr style=\"text-align: right;\">\n",
              "      <th></th>\n",
              "      <th>age</th>\n",
              "      <th>job</th>\n",
              "      <th>marital</th>\n",
              "      <th>education</th>\n",
              "      <th>default</th>\n",
              "      <th>balance</th>\n",
              "      <th>housing</th>\n",
              "      <th>loan</th>\n",
              "      <th>contact</th>\n",
              "      <th>day</th>\n",
              "      <th>month</th>\n",
              "      <th>duration</th>\n",
              "      <th>campaign</th>\n",
              "      <th>pdays</th>\n",
              "      <th>previous</th>\n",
              "      <th>poutcome</th>\n",
              "      <th>deposit</th>\n",
              "    </tr>\n",
              "  </thead>\n",
              "  <tbody>\n",
              "    <tr>\n",
              "      <th>3945</th>\n",
              "      <td>84</td>\n",
              "      <td>retired</td>\n",
              "      <td>married</td>\n",
              "      <td>tertiary</td>\n",
              "      <td>no</td>\n",
              "      <td>4761</td>\n",
              "      <td>no</td>\n",
              "      <td>no</td>\n",
              "      <td>telephone</td>\n",
              "      <td>9</td>\n",
              "      <td>sep</td>\n",
              "      <td>1405</td>\n",
              "      <td>1</td>\n",
              "      <td>92</td>\n",
              "      <td>3</td>\n",
              "      <td>failure</td>\n",
              "      <td>yes</td>\n",
              "    </tr>\n",
              "  </tbody>\n",
              "</table>\n",
              "</div>\n",
              "      <button class=\"colab-df-convert\" onclick=\"convertToInteractive('df-5533a2a7-3d5d-4ea2-9e4c-fad8322bde37')\"\n",
              "              title=\"Convert this dataframe to an interactive table.\"\n",
              "              style=\"display:none;\">\n",
              "        \n",
              "  <svg xmlns=\"http://www.w3.org/2000/svg\" height=\"24px\"viewBox=\"0 0 24 24\"\n",
              "       width=\"24px\">\n",
              "    <path d=\"M0 0h24v24H0V0z\" fill=\"none\"/>\n",
              "    <path d=\"M18.56 5.44l.94 2.06.94-2.06 2.06-.94-2.06-.94-.94-2.06-.94 2.06-2.06.94zm-11 1L8.5 8.5l.94-2.06 2.06-.94-2.06-.94L8.5 2.5l-.94 2.06-2.06.94zm10 10l.94 2.06.94-2.06 2.06-.94-2.06-.94-.94-2.06-.94 2.06-2.06.94z\"/><path d=\"M17.41 7.96l-1.37-1.37c-.4-.4-.92-.59-1.43-.59-.52 0-1.04.2-1.43.59L10.3 9.45l-7.72 7.72c-.78.78-.78 2.05 0 2.83L4 21.41c.39.39.9.59 1.41.59.51 0 1.02-.2 1.41-.59l7.78-7.78 2.81-2.81c.8-.78.8-2.07 0-2.86zM5.41 20L4 18.59l7.72-7.72 1.47 1.35L5.41 20z\"/>\n",
              "  </svg>\n",
              "      </button>\n",
              "      \n",
              "  <style>\n",
              "    .colab-df-container {\n",
              "      display:flex;\n",
              "      flex-wrap:wrap;\n",
              "      gap: 12px;\n",
              "    }\n",
              "\n",
              "    .colab-df-convert {\n",
              "      background-color: #E8F0FE;\n",
              "      border: none;\n",
              "      border-radius: 50%;\n",
              "      cursor: pointer;\n",
              "      display: none;\n",
              "      fill: #1967D2;\n",
              "      height: 32px;\n",
              "      padding: 0 0 0 0;\n",
              "      width: 32px;\n",
              "    }\n",
              "\n",
              "    .colab-df-convert:hover {\n",
              "      background-color: #E2EBFA;\n",
              "      box-shadow: 0px 1px 2px rgba(60, 64, 67, 0.3), 0px 1px 3px 1px rgba(60, 64, 67, 0.15);\n",
              "      fill: #174EA6;\n",
              "    }\n",
              "\n",
              "    [theme=dark] .colab-df-convert {\n",
              "      background-color: #3B4455;\n",
              "      fill: #D2E3FC;\n",
              "    }\n",
              "\n",
              "    [theme=dark] .colab-df-convert:hover {\n",
              "      background-color: #434B5C;\n",
              "      box-shadow: 0px 1px 3px 1px rgba(0, 0, 0, 0.15);\n",
              "      filter: drop-shadow(0px 1px 2px rgba(0, 0, 0, 0.3));\n",
              "      fill: #FFFFFF;\n",
              "    }\n",
              "  </style>\n",
              "\n",
              "      <script>\n",
              "        const buttonEl =\n",
              "          document.querySelector('#df-5533a2a7-3d5d-4ea2-9e4c-fad8322bde37 button.colab-df-convert');\n",
              "        buttonEl.style.display =\n",
              "          google.colab.kernel.accessAllowed ? 'block' : 'none';\n",
              "\n",
              "        async function convertToInteractive(key) {\n",
              "          const element = document.querySelector('#df-5533a2a7-3d5d-4ea2-9e4c-fad8322bde37');\n",
              "          const dataTable =\n",
              "            await google.colab.kernel.invokeFunction('convertToInteractive',\n",
              "                                                     [key], {});\n",
              "          if (!dataTable) return;\n",
              "\n",
              "          const docLinkHtml = 'Like what you see? Visit the ' +\n",
              "            '<a target=\"_blank\" href=https://colab.research.google.com/notebooks/data_table.ipynb>data table notebook</a>'\n",
              "            + ' to learn more about interactive tables.';\n",
              "          element.innerHTML = '';\n",
              "          dataTable['output_type'] = 'display_data';\n",
              "          await google.colab.output.renderOutput(dataTable, element);\n",
              "          const docLink = document.createElement('div');\n",
              "          docLink.innerHTML = docLinkHtml;\n",
              "          element.appendChild(docLink);\n",
              "        }\n",
              "      </script>\n",
              "    </div>\n",
              "  </div>\n",
              "  "
            ],
            "text/plain": [
              "      age      job  marital education default  balance housing loan  \\\n",
              "3945   84  retired  married  tertiary      no     4761      no   no   \n",
              "\n",
              "        contact  day month  duration  campaign  pdays  previous poutcome  \\\n",
              "3945  telephone    9   sep      1405         1     92         3  failure   \n",
              "\n",
              "     deposit  \n",
              "3945     yes  "
            ]
          },
          "execution_count": 185,
          "metadata": {},
          "output_type": "execute_result"
        }
      ],
      "source": [
        "data.loc[detect_outliers(data,['age',\n",
        "                               'day','duration','campaign','previous'])]"
      ]
    },
    {
      "cell_type": "code",
      "execution_count": null,
      "metadata": {
        "id": "1BtP0GcEw04D"
      },
      "outputs": [],
      "source": [
        "data = data.drop([3945], axis=0)"
      ]
    },
    {
      "cell_type": "code",
      "execution_count": null,
      "metadata": {
        "colab": {
          "base_uri": "https://localhost:8080/"
        },
        "id": "kmJPXcc4u8WH",
        "outputId": "acc3f954-0054-45b8-c0bf-37d421ed9d6a"
      },
      "outputs": [
        {
          "data": {
            "text/plain": [
              "age          0\n",
              "job          0\n",
              "marital      0\n",
              "education    0\n",
              "default      0\n",
              "balance      0\n",
              "housing      0\n",
              "loan         0\n",
              "contact      0\n",
              "day          0\n",
              "month        0\n",
              "duration     0\n",
              "campaign     0\n",
              "pdays        0\n",
              "previous     0\n",
              "poutcome     0\n",
              "deposit      0\n",
              "dtype: int64"
            ]
          },
          "execution_count": 187,
          "metadata": {},
          "output_type": "execute_result"
        }
      ],
      "source": [
        "#check for missing values\n",
        "data.isnull().sum()"
      ]
    },
    {
      "cell_type": "code",
      "execution_count": null,
      "metadata": {
        "colab": {
          "base_uri": "https://localhost:8080/",
          "height": 777
        },
        "id": "Fwttpghnwxvn",
        "outputId": "9884d46e-099a-462a-d37c-2f88bb83f71c"
      },
      "outputs": [
        {
          "data": {
            "text/plain": [
              "<matplotlib.axes._subplots.AxesSubplot at 0x7ff5a382b990>"
            ]
          },
          "execution_count": 188,
          "metadata": {},
          "output_type": "execute_result"
        },
        {
          "data": {
            "image/png": "[encoded data removed]",
            "text/plain": [
              "<Figure size 936x936 with 2 Axes>"
            ]
          },
          "metadata": {},
          "output_type": "display_data"
        }
      ],
      "source": [
        "import seaborn as sns\n",
        "fig, ax = plt.subplots(figsize=(13,13))\n",
        "sns.heatmap(data.corr(), annot=True, linewidths=.5, ax=ax)"
      ]
    },
    {
      "cell_type": "code",
      "execution_count": null,
      "metadata": {
        "id": "r5t6CX0WxlXe"
      },
      "outputs": [],
      "source": [
        "#removing duration since it is unknown\n",
        "data=data.drop(['duration'],axis=1)"
      ]
    },
    {
      "cell_type": "code",
      "execution_count": null,
      "metadata": {
        "colab": {
          "base_uri": "https://localhost:8080/",
          "height": 1000
        },
        "id": "YpRyDhcVxthn",
        "outputId": "7d203ef3-f24d-4cd0-8c2d-7cea1ccd402a"
      },
      "outputs": [
        {
          "name": "stdout",
          "output_type": "stream",
          "text": [
            "<class 'pandas.core.frame.DataFrame'>\n",
            "Int64Index: 11161 entries, 0 to 11161\n",
            "Data columns (total 52 columns):\n",
            " #   Column               Non-Null Count  Dtype \n",
            "---  ------               --------------  ----- \n",
            " 0   age                  11161 non-null  int64 \n",
            " 1   balance              11161 non-null  int64 \n",
            " 2   campaign             11161 non-null  int64 \n",
            " 3   pdays                11161 non-null  int64 \n",
            " 4   previous             11161 non-null  int64 \n",
            " 5   deposit              11161 non-null  object\n",
            " 6   job_admin            11161 non-null  uint8 \n",
            " 7   job_blue-collar      11161 non-null  uint8 \n",
            " 8   job_entrepreneur     11161 non-null  uint8 \n",
            " 9   job_housemaid        11161 non-null  uint8 \n",
            " 10  job_management       11161 non-null  uint8 \n",
            " 11  job_retired          11161 non-null  uint8 \n",
            " 12  job_self-employed    11161 non-null  uint8 \n",
            " 13  job_services         11161 non-null  uint8 \n",
            " 14  job_student          11161 non-null  uint8 \n",
            " 15  job_technician       11161 non-null  uint8 \n",
            " 16  job_unemployed       11161 non-null  uint8 \n",
            " 17  job_unknown          11161 non-null  uint8 \n",
            " 18  marital_divorced     11161 non-null  uint8 \n",
            " 19  marital_married      11161 non-null  uint8 \n",
            " 20  marital_single       11161 non-null  uint8 \n",
            " 21  education_primary    11161 non-null  uint8 \n",
            " 22  education_secondary  11161 non-null  uint8 \n",
            " 23  education_tertiary   11161 non-null  uint8 \n",
            " 24  education_unknown    11161 non-null  uint8 \n",
            " 25  default_no           11161 non-null  uint8 \n",
            " 26  default_yes          11161 non-null  uint8 \n",
            " 27  housing_no           11161 non-null  uint8 \n",
            " 28  housing_yes          11161 non-null  uint8 \n",
            " 29  loan_no              11161 non-null  uint8 \n",
            " 30  loan_yes             11161 non-null  uint8 \n",
            " 31  contact_cellular     11161 non-null  uint8 \n",
            " 32  contact_telephone    11161 non-null  uint8 \n",
            " 33  contact_unknown      11161 non-null  uint8 \n",
            " 34  month_apr            11161 non-null  uint8 \n",
            " 35  month_aug            11161 non-null  uint8 \n",
            " 36  month_dec            11161 non-null  uint8 \n",
            " 37  month_feb            11161 non-null  uint8 \n",
            " 38  month_jan            11161 non-null  uint8 \n",
            " 39  month_jul            11161 non-null  uint8 \n",
            " 40  month_jun            11161 non-null  uint8 \n",
            " 41  month_mar            11161 non-null  uint8 \n",
            " 42  month_may            11161 non-null  uint8 \n",
            " 43  month_nov            11161 non-null  uint8 \n",
            " 44  month_oct            11161 non-null  uint8 \n",
            " 45  month_sep            11161 non-null  uint8 \n",
            " 46  poutcome_failure     11161 non-null  uint8 \n",
            " 47  poutcome_other       11161 non-null  uint8 \n",
            " 48  poutcome_success     11161 non-null  uint8 \n",
            " 49  poutcome_unknown     11161 non-null  uint8 \n",
            " 50  deposit_no           11161 non-null  uint8 \n",
            " 51  deposit_yes          11161 non-null  uint8 \n",
            "dtypes: int64(5), object(1), uint8(46)\n",
            "memory usage: 1.1+ MB\n"
          ]
        },
        {
          "data": {
            "text/html": [
              "\n",
              "  <div id=\"df-bde5abce-b4c9-4f54-9390-efa88a91aff5\">\n",
              "    <div class=\"colab-df-container\">\n",
              "      <div>\n",
              "<style scoped>\n",
              "    .dataframe tbody tr th:only-of-type {\n",
              "        vertical-align: middle;\n",
              "    }\n",
              "\n",
              "    .dataframe tbody tr th {\n",
              "        vertical-align: top;\n",
              "    }\n",
              "\n",
              "    .dataframe thead th {\n",
              "        text-align: right;\n",
              "    }\n",
              "</style>\n",
              "<table border=\"1\" class=\"dataframe\">\n",
              "  <thead>\n",
              "    <tr style=\"text-align: right;\">\n",
              "      <th></th>\n",
              "      <th>age</th>\n",
              "      <th>balance</th>\n",
              "      <th>campaign</th>\n",
              "      <th>pdays</th>\n",
              "      <th>previous</th>\n",
              "      <th>deposit</th>\n",
              "      <th>job_admin</th>\n",
              "      <th>job_blue-collar</th>\n",
              "      <th>job_entrepreneur</th>\n",
              "      <th>job_housemaid</th>\n",
              "      <th>...</th>\n",
              "      <th>month_may</th>\n",
              "      <th>month_nov</th>\n",
              "      <th>month_oct</th>\n",
              "      <th>month_sep</th>\n",
              "      <th>poutcome_failure</th>\n",
              "      <th>poutcome_other</th>\n",
              "      <th>poutcome_success</th>\n",
              "      <th>poutcome_unknown</th>\n",
              "      <th>deposit_no</th>\n",
              "      <th>deposit_yes</th>\n",
              "    </tr>\n",
              "  </thead>\n",
              "  <tbody>\n",
              "    <tr>\n",
              "      <th>0</th>\n",
              "      <td>59</td>\n",
              "      <td>2343</td>\n",
              "      <td>1</td>\n",
              "      <td>-1</td>\n",
              "      <td>0</td>\n",
              "      <td>yes</td>\n",
              "      <td>1</td>\n",
              "      <td>0</td>\n",
              "      <td>0</td>\n",
              "      <td>0</td>\n",
              "      <td>...</td>\n",
              "      <td>1</td>\n",
              "      <td>0</td>\n",
              "      <td>0</td>\n",
              "      <td>0</td>\n",
              "      <td>0</td>\n",
              "      <td>0</td>\n",
              "      <td>0</td>\n",
              "      <td>1</td>\n",
              "      <td>0</td>\n",
              "      <td>1</td>\n",
              "    </tr>\n",
              "    <tr>\n",
              "      <th>1</th>\n",
              "      <td>56</td>\n",
              "      <td>45</td>\n",
              "      <td>1</td>\n",
              "      <td>-1</td>\n",
              "      <td>0</td>\n",
              "      <td>yes</td>\n",
              "      <td>1</td>\n",
              "      <td>0</td>\n",
              "      <td>0</td>\n",
              "      <td>0</td>\n",
              "      <td>...</td>\n",
              "      <td>1</td>\n",
              "      <td>0</td>\n",
              "      <td>0</td>\n",
              "      <td>0</td>\n",
              "      <td>0</td>\n",
              "      <td>0</td>\n",
              "      <td>0</td>\n",
              "      <td>1</td>\n",
              "      <td>0</td>\n",
              "      <td>1</td>\n",
              "    </tr>\n",
              "    <tr>\n",
              "      <th>2</th>\n",
              "      <td>41</td>\n",
              "      <td>1270</td>\n",
              "      <td>1</td>\n",
              "      <td>-1</td>\n",
              "      <td>0</td>\n",
              "      <td>yes</td>\n",
              "      <td>0</td>\n",
              "      <td>0</td>\n",
              "      <td>0</td>\n",
              "      <td>0</td>\n",
              "      <td>...</td>\n",
              "      <td>1</td>\n",
              "      <td>0</td>\n",
              "      <td>0</td>\n",
              "      <td>0</td>\n",
              "      <td>0</td>\n",
              "      <td>0</td>\n",
              "      <td>0</td>\n",
              "      <td>1</td>\n",
              "      <td>0</td>\n",
              "      <td>1</td>\n",
              "    </tr>\n",
              "    <tr>\n",
              "      <th>3</th>\n",
              "      <td>55</td>\n",
              "      <td>2476</td>\n",
              "      <td>1</td>\n",
              "      <td>-1</td>\n",
              "      <td>0</td>\n",
              "      <td>yes</td>\n",
              "      <td>0</td>\n",
              "      <td>0</td>\n",
              "      <td>0</td>\n",
              "      <td>0</td>\n",
              "      <td>...</td>\n",
              "      <td>1</td>\n",
              "      <td>0</td>\n",
              "      <td>0</td>\n",
              "      <td>0</td>\n",
              "      <td>0</td>\n",
              "      <td>0</td>\n",
              "      <td>0</td>\n",
              "      <td>1</td>\n",
              "      <td>0</td>\n",
              "      <td>1</td>\n",
              "    </tr>\n",
              "    <tr>\n",
              "      <th>4</th>\n",
              "      <td>54</td>\n",
              "      <td>184</td>\n",
              "      <td>2</td>\n",
              "      <td>-1</td>\n",
              "      <td>0</td>\n",
              "      <td>yes</td>\n",
              "      <td>1</td>\n",
              "      <td>0</td>\n",
              "      <td>0</td>\n",
              "      <td>0</td>\n",
              "      <td>...</td>\n",
              "      <td>1</td>\n",
              "      <td>0</td>\n",
              "      <td>0</td>\n",
              "      <td>0</td>\n",
              "      <td>0</td>\n",
              "      <td>0</td>\n",
              "      <td>0</td>\n",
              "      <td>1</td>\n",
              "      <td>0</td>\n",
              "      <td>1</td>\n",
              "    </tr>\n",
              "  </tbody>\n",
              "</table>\n",
              "<p>5 rows × 52 columns</p>\n",
              "</div>\n",
              "      <button class=\"colab-df-convert\" onclick=\"convertToInteractive('df-bde5abce-b4c9-4f54-9390-efa88a91aff5')\"\n",
              "              title=\"Convert this dataframe to an interactive table.\"\n",
              "              style=\"display:none;\">\n",
              "        \n",
              "  <svg xmlns=\"http://www.w3.org/2000/svg\" height=\"24px\"viewBox=\"0 0 24 24\"\n",
              "       width=\"24px\">\n",
              "    <path d=\"M0 0h24v24H0V0z\" fill=\"none\"/>\n",
              "    <path d=\"M18.56 5.44l.94 2.06.94-2.06 2.06-.94-2.06-.94-.94-2.06-.94 2.06-2.06.94zm-11 1L8.5 8.5l.94-2.06 2.06-.94-2.06-.94L8.5 2.5l-.94 2.06-2.06.94zm10 10l.94 2.06.94-2.06 2.06-.94-2.06-.94-.94-2.06-.94 2.06-2.06.94z\"/><path d=\"M17.41 7.96l-1.37-1.37c-.4-.4-.92-.59-1.43-.59-.52 0-1.04.2-1.43.59L10.3 9.45l-7.72 7.72c-.78.78-.78 2.05 0 2.83L4 21.41c.39.39.9.59 1.41.59.51 0 1.02-.2 1.41-.59l7.78-7.78 2.81-2.81c.8-.78.8-2.07 0-2.86zM5.41 20L4 18.59l7.72-7.72 1.47 1.35L5.41 20z\"/>\n",
              "  </svg>\n",
              "      </button>\n",
              "      \n",
              "  <style>\n",
              "    .colab-df-container {\n",
              "      display:flex;\n",
              "      flex-wrap:wrap;\n",
              "      gap: 12px;\n",
              "    }\n",
              "\n",
              "    .colab-df-convert {\n",
              "      background-color: #E8F0FE;\n",
              "      border: none;\n",
              "      border-radius: 50%;\n",
              "      cursor: pointer;\n",
              "      display: none;\n",
              "      fill: #1967D2;\n",
              "      height: 32px;\n",
              "      padding: 0 0 0 0;\n",
              "      width: 32px;\n",
              "    }\n",
              "\n",
              "    .colab-df-convert:hover {\n",
              "      background-color: #E2EBFA;\n",
              "      box-shadow: 0px 1px 2px rgba(60, 64, 67, 0.3), 0px 1px 3px 1px rgba(60, 64, 67, 0.15);\n",
              "      fill: #174EA6;\n",
              "    }\n",
              "\n",
              "    [theme=dark] .colab-df-convert {\n",
              "      background-color: #3B4455;\n",
              "      fill: #D2E3FC;\n",
              "    }\n",
              "\n",
              "    [theme=dark] .colab-df-convert:hover {\n",
              "      background-color: #434B5C;\n",
              "      box-shadow: 0px 1px 3px 1px rgba(0, 0, 0, 0.15);\n",
              "      filter: drop-shadow(0px 1px 2px rgba(0, 0, 0, 0.3));\n",
              "      fill: #FFFFFF;\n",
              "    }\n",
              "  </style>\n",
              "\n",
              "      <script>\n",
              "        const buttonEl =\n",
              "          document.querySelector('#df-bde5abce-b4c9-4f54-9390-efa88a91aff5 button.colab-df-convert');\n",
              "        buttonEl.style.display =\n",
              "          google.colab.kernel.accessAllowed ? 'block' : 'none';\n",
              "\n",
              "        async function convertToInteractive(key) {\n",
              "          const element = document.querySelector('#df-bde5abce-b4c9-4f54-9390-efa88a91aff5');\n",
              "          const dataTable =\n",
              "            await google.colab.kernel.invokeFunction('convertToInteractive',\n",
              "                                                     [key], {});\n",
              "          if (!dataTable) return;\n",
              "\n",
              "          const docLinkHtml = 'Like what you see? Visit the ' +\n",
              "            '<a target=\"_blank\" href=https://colab.research.google.com/notebooks/data_table.ipynb>data table notebook</a>'\n",
              "            + ' to learn more about interactive tables.';\n",
              "          element.innerHTML = '';\n",
              "          dataTable['output_type'] = 'display_data';\n",
              "          await google.colab.output.renderOutput(dataTable, element);\n",
              "          const docLink = document.createElement('div');\n",
              "          docLink.innerHTML = docLinkHtml;\n",
              "          element.appendChild(docLink);\n",
              "        }\n",
              "      </script>\n",
              "    </div>\n",
              "  </div>\n",
              "  "
            ],
            "text/plain": [
              "   age  balance  campaign  pdays  previous deposit  job_admin  \\\n",
              "0   59     2343         1     -1         0     yes          1   \n",
              "1   56       45         1     -1         0     yes          1   \n",
              "2   41     1270         1     -1         0     yes          0   \n",
              "3   55     2476         1     -1         0     yes          0   \n",
              "4   54      184         2     -1         0     yes          1   \n",
              "\n",
              "   job_blue-collar  job_entrepreneur  job_housemaid  ...  month_may  \\\n",
              "0                0                 0              0  ...          1   \n",
              "1                0                 0              0  ...          1   \n",
              "2                0                 0              0  ...          1   \n",
              "3                0                 0              0  ...          1   \n",
              "4                0                 0              0  ...          1   \n",
              "\n",
              "   month_nov  month_oct  month_sep  poutcome_failure  poutcome_other  \\\n",
              "0          0          0          0                 0               0   \n",
              "1          0          0          0                 0               0   \n",
              "2          0          0          0                 0               0   \n",
              "3          0          0          0                 0               0   \n",
              "4          0          0          0                 0               0   \n",
              "\n",
              "   poutcome_success  poutcome_unknown  deposit_no  deposit_yes  \n",
              "0                 0                 1           0            1  \n",
              "1                 0                 1           0            1  \n",
              "2                 0                 1           0            1  \n",
              "3                 0                 1           0            1  \n",
              "4                 0                 1           0            1  \n",
              "\n",
              "[5 rows x 52 columns]"
            ]
          },
          "execution_count": 122,
          "metadata": {},
          "output_type": "execute_result"
        }
      ],
      "source": [
        "#one hot encoding to represent categories as binary\n",
        "columns=data.select_dtypes(include=[object]).columns\n",
        "data=pd.concat([data,pd.get_dummies(data[columns])],axis=1)\n",
        "data=data.drop(['job','marital','education','default','housing','loan','contact','month','day','poutcome'],axis=1)\n",
        "data.info()\n",
        "data.head()"
      ]
    },
    {
      "cell_type": "code",
      "execution_count": null,
      "metadata": {
        "id": "NYVR5TvZx_Gy"
      },
      "outputs": [],
      "source": [
        "def pdayswork(pdays):\n",
        "    if(pdays == -1):\n",
        "        return(0)\n",
        "    elif(pdays >= 0):\n",
        "        return(1)\n",
        "data['pdays2'] = data['pdays'].apply(pdayswork)"
      ]
    },
    {
      "cell_type": "code",
      "execution_count": null,
      "metadata": {
        "id": "srGxHhcuyBjk"
      },
      "outputs": [],
      "source": [
        "data=data.drop(['deposit_no', 'deposit_yes'],axis=1)"
      ]
    },
    {
      "cell_type": "code",
      "execution_count": null,
      "metadata": {
        "id": "3VThtXpMyGNs"
      },
      "outputs": [],
      "source": [
        "def deposit1(deposit):\n",
        "    if(deposit=='yes'):\n",
        "        return(1)\n",
        "    elif(deposit=='no'):\n",
        "        return(0)\n",
        "data['depositNew'] = data['deposit'].apply(deposit1)"
      ]
    },
    {
      "cell_type": "code",
      "execution_count": null,
      "metadata": {
        "id": "xKyFjGNvyHde"
      },
      "outputs": [],
      "source": [
        "data=data.drop(['deposit'],axis=1)\n"
      ]
    },
    {
      "cell_type": "code",
      "execution_count": null,
      "metadata": {
        "colab": {
          "base_uri": "https://localhost:8080/",
          "height": 317
        },
        "id": "_YBRtW7MyIlw",
        "outputId": "3d541c6f-8f6c-4cd5-b0c3-eac3b46b9677"
      },
      "outputs": [
        {
          "data": {
            "text/html": [
              "\n",
              "  <div id=\"df-30717f22-06f6-4e64-b7e2-e76be21fc15e\">\n",
              "    <div class=\"colab-df-container\">\n",
              "      <div>\n",
              "<style scoped>\n",
              "    .dataframe tbody tr th:only-of-type {\n",
              "        vertical-align: middle;\n",
              "    }\n",
              "\n",
              "    .dataframe tbody tr th {\n",
              "        vertical-align: top;\n",
              "    }\n",
              "\n",
              "    .dataframe thead th {\n",
              "        text-align: right;\n",
              "    }\n",
              "</style>\n",
              "<table border=\"1\" class=\"dataframe\">\n",
              "  <thead>\n",
              "    <tr style=\"text-align: right;\">\n",
              "      <th></th>\n",
              "      <th>age</th>\n",
              "      <th>balance</th>\n",
              "      <th>campaign</th>\n",
              "      <th>pdays</th>\n",
              "      <th>previous</th>\n",
              "      <th>job_admin</th>\n",
              "      <th>job_blue-collar</th>\n",
              "      <th>job_entrepreneur</th>\n",
              "      <th>job_housemaid</th>\n",
              "      <th>job_management</th>\n",
              "      <th>...</th>\n",
              "      <th>month_may</th>\n",
              "      <th>month_nov</th>\n",
              "      <th>month_oct</th>\n",
              "      <th>month_sep</th>\n",
              "      <th>poutcome_failure</th>\n",
              "      <th>poutcome_other</th>\n",
              "      <th>poutcome_success</th>\n",
              "      <th>poutcome_unknown</th>\n",
              "      <th>pdays2</th>\n",
              "      <th>depositNew</th>\n",
              "    </tr>\n",
              "  </thead>\n",
              "  <tbody>\n",
              "    <tr>\n",
              "      <th>0</th>\n",
              "      <td>59</td>\n",
              "      <td>2343</td>\n",
              "      <td>1</td>\n",
              "      <td>-1</td>\n",
              "      <td>0</td>\n",
              "      <td>1</td>\n",
              "      <td>0</td>\n",
              "      <td>0</td>\n",
              "      <td>0</td>\n",
              "      <td>0</td>\n",
              "      <td>...</td>\n",
              "      <td>1</td>\n",
              "      <td>0</td>\n",
              "      <td>0</td>\n",
              "      <td>0</td>\n",
              "      <td>0</td>\n",
              "      <td>0</td>\n",
              "      <td>0</td>\n",
              "      <td>1</td>\n",
              "      <td>0</td>\n",
              "      <td>1</td>\n",
              "    </tr>\n",
              "    <tr>\n",
              "      <th>1</th>\n",
              "      <td>56</td>\n",
              "      <td>45</td>\n",
              "      <td>1</td>\n",
              "      <td>-1</td>\n",
              "      <td>0</td>\n",
              "      <td>1</td>\n",
              "      <td>0</td>\n",
              "      <td>0</td>\n",
              "      <td>0</td>\n",
              "      <td>0</td>\n",
              "      <td>...</td>\n",
              "      <td>1</td>\n",
              "      <td>0</td>\n",
              "      <td>0</td>\n",
              "      <td>0</td>\n",
              "      <td>0</td>\n",
              "      <td>0</td>\n",
              "      <td>0</td>\n",
              "      <td>1</td>\n",
              "      <td>0</td>\n",
              "      <td>1</td>\n",
              "    </tr>\n",
              "    <tr>\n",
              "      <th>2</th>\n",
              "      <td>41</td>\n",
              "      <td>1270</td>\n",
              "      <td>1</td>\n",
              "      <td>-1</td>\n",
              "      <td>0</td>\n",
              "      <td>0</td>\n",
              "      <td>0</td>\n",
              "      <td>0</td>\n",
              "      <td>0</td>\n",
              "      <td>0</td>\n",
              "      <td>...</td>\n",
              "      <td>1</td>\n",
              "      <td>0</td>\n",
              "      <td>0</td>\n",
              "      <td>0</td>\n",
              "      <td>0</td>\n",
              "      <td>0</td>\n",
              "      <td>0</td>\n",
              "      <td>1</td>\n",
              "      <td>0</td>\n",
              "      <td>1</td>\n",
              "    </tr>\n",
              "    <tr>\n",
              "      <th>3</th>\n",
              "      <td>55</td>\n",
              "      <td>2476</td>\n",
              "      <td>1</td>\n",
              "      <td>-1</td>\n",
              "      <td>0</td>\n",
              "      <td>0</td>\n",
              "      <td>0</td>\n",
              "      <td>0</td>\n",
              "      <td>0</td>\n",
              "      <td>0</td>\n",
              "      <td>...</td>\n",
              "      <td>1</td>\n",
              "      <td>0</td>\n",
              "      <td>0</td>\n",
              "      <td>0</td>\n",
              "      <td>0</td>\n",
              "      <td>0</td>\n",
              "      <td>0</td>\n",
              "      <td>1</td>\n",
              "      <td>0</td>\n",
              "      <td>1</td>\n",
              "    </tr>\n",
              "    <tr>\n",
              "      <th>4</th>\n",
              "      <td>54</td>\n",
              "      <td>184</td>\n",
              "      <td>2</td>\n",
              "      <td>-1</td>\n",
              "      <td>0</td>\n",
              "      <td>1</td>\n",
              "      <td>0</td>\n",
              "      <td>0</td>\n",
              "      <td>0</td>\n",
              "      <td>0</td>\n",
              "      <td>...</td>\n",
              "      <td>1</td>\n",
              "      <td>0</td>\n",
              "      <td>0</td>\n",
              "      <td>0</td>\n",
              "      <td>0</td>\n",
              "      <td>0</td>\n",
              "      <td>0</td>\n",
              "      <td>1</td>\n",
              "      <td>0</td>\n",
              "      <td>1</td>\n",
              "    </tr>\n",
              "  </tbody>\n",
              "</table>\n",
              "<p>5 rows × 51 columns</p>\n",
              "</div>\n",
              "      <button class=\"colab-df-convert\" onclick=\"convertToInteractive('df-30717f22-06f6-4e64-b7e2-e76be21fc15e')\"\n",
              "              title=\"Convert this dataframe to an interactive table.\"\n",
              "              style=\"display:none;\">\n",
              "        \n",
              "  <svg xmlns=\"http://www.w3.org/2000/svg\" height=\"24px\"viewBox=\"0 0 24 24\"\n",
              "       width=\"24px\">\n",
              "    <path d=\"M0 0h24v24H0V0z\" fill=\"none\"/>\n",
              "    <path d=\"M18.56 5.44l.94 2.06.94-2.06 2.06-.94-2.06-.94-.94-2.06-.94 2.06-2.06.94zm-11 1L8.5 8.5l.94-2.06 2.06-.94-2.06-.94L8.5 2.5l-.94 2.06-2.06.94zm10 10l.94 2.06.94-2.06 2.06-.94-2.06-.94-.94-2.06-.94 2.06-2.06.94z\"/><path d=\"M17.41 7.96l-1.37-1.37c-.4-.4-.92-.59-1.43-.59-.52 0-1.04.2-1.43.59L10.3 9.45l-7.72 7.72c-.78.78-.78 2.05 0 2.83L4 21.41c.39.39.9.59 1.41.59.51 0 1.02-.2 1.41-.59l7.78-7.78 2.81-2.81c.8-.78.8-2.07 0-2.86zM5.41 20L4 18.59l7.72-7.72 1.47 1.35L5.41 20z\"/>\n",
              "  </svg>\n",
              "      </button>\n",
              "      \n",
              "  <style>\n",
              "    .colab-df-container {\n",
              "      display:flex;\n",
              "      flex-wrap:wrap;\n",
              "      gap: 12px;\n",
              "    }\n",
              "\n",
              "    .colab-df-convert {\n",
              "      background-color: #E8F0FE;\n",
              "      border: none;\n",
              "      border-radius: 50%;\n",
              "      cursor: pointer;\n",
              "      display: none;\n",
              "      fill: #1967D2;\n",
              "      height: 32px;\n",
              "      padding: 0 0 0 0;\n",
              "      width: 32px;\n",
              "    }\n",
              "\n",
              "    .colab-df-convert:hover {\n",
              "      background-color: #E2EBFA;\n",
              "      box-shadow: 0px 1px 2px rgba(60, 64, 67, 0.3), 0px 1px 3px 1px rgba(60, 64, 67, 0.15);\n",
              "      fill: #174EA6;\n",
              "    }\n",
              "\n",
              "    [theme=dark] .colab-df-convert {\n",
              "      background-color: #3B4455;\n",
              "      fill: #D2E3FC;\n",
              "    }\n",
              "\n",
              "    [theme=dark] .colab-df-convert:hover {\n",
              "      background-color: #434B5C;\n",
              "      box-shadow: 0px 1px 3px 1px rgba(0, 0, 0, 0.15);\n",
              "      filter: drop-shadow(0px 1px 2px rgba(0, 0, 0, 0.3));\n",
              "      fill: #FFFFFF;\n",
              "    }\n",
              "  </style>\n",
              "\n",
              "      <script>\n",
              "        const buttonEl =\n",
              "          document.querySelector('#df-30717f22-06f6-4e64-b7e2-e76be21fc15e button.colab-df-convert');\n",
              "        buttonEl.style.display =\n",
              "          google.colab.kernel.accessAllowed ? 'block' : 'none';\n",
              "\n",
              "        async function convertToInteractive(key) {\n",
              "          const element = document.querySelector('#df-30717f22-06f6-4e64-b7e2-e76be21fc15e');\n",
              "          const dataTable =\n",
              "            await google.colab.kernel.invokeFunction('convertToInteractive',\n",
              "                                                     [key], {});\n",
              "          if (!dataTable) return;\n",
              "\n",
              "          const docLinkHtml = 'Like what you see? Visit the ' +\n",
              "            '<a target=\"_blank\" href=https://colab.research.google.com/notebooks/data_table.ipynb>data table notebook</a>'\n",
              "            + ' to learn more about interactive tables.';\n",
              "          element.innerHTML = '';\n",
              "          dataTable['output_type'] = 'display_data';\n",
              "          await google.colab.output.renderOutput(dataTable, element);\n",
              "          const docLink = document.createElement('div');\n",
              "          docLink.innerHTML = docLinkHtml;\n",
              "          element.appendChild(docLink);\n",
              "        }\n",
              "      </script>\n",
              "    </div>\n",
              "  </div>\n",
              "  "
            ],
            "text/plain": [
              "   age  balance  campaign  pdays  previous  job_admin  job_blue-collar  \\\n",
              "0   59     2343         1     -1         0          1                0   \n",
              "1   56       45         1     -1         0          1                0   \n",
              "2   41     1270         1     -1         0          0                0   \n",
              "3   55     2476         1     -1         0          0                0   \n",
              "4   54      184         2     -1         0          1                0   \n",
              "\n",
              "   job_entrepreneur  job_housemaid  job_management  ...  month_may  month_nov  \\\n",
              "0                 0              0               0  ...          1          0   \n",
              "1                 0              0               0  ...          1          0   \n",
              "2                 0              0               0  ...          1          0   \n",
              "3                 0              0               0  ...          1          0   \n",
              "4                 0              0               0  ...          1          0   \n",
              "\n",
              "   month_oct  month_sep  poutcome_failure  poutcome_other  poutcome_success  \\\n",
              "0          0          0                 0               0                 0   \n",
              "1          0          0                 0               0                 0   \n",
              "2          0          0                 0               0                 0   \n",
              "3          0          0                 0               0                 0   \n",
              "4          0          0                 0               0                 0   \n",
              "\n",
              "   poutcome_unknown  pdays2  depositNew  \n",
              "0                 1       0           1  \n",
              "1                 1       0           1  \n",
              "2                 1       0           1  \n",
              "3                 1       0           1  \n",
              "4                 1       0           1  \n",
              "\n",
              "[5 rows x 51 columns]"
            ]
          },
          "execution_count": 127,
          "metadata": {},
          "output_type": "execute_result"
        }
      ],
      "source": [
        "data.head()"
      ]
    },
    {
      "cell_type": "code",
      "execution_count": null,
      "metadata": {
        "colab": {
          "base_uri": "https://localhost:8080/"
        },
        "id": "1Y8YyauDyXzq",
        "outputId": "875936dc-81cf-4df7-9114-67f7b4745e1b"
      },
      "outputs": [
        {
          "name": "stdout",
          "output_type": "stream",
          "text": [
            "<class 'pandas.core.frame.DataFrame'>\n",
            "Int64Index: 11161 entries, 0 to 11161\n",
            "Data columns (total 51 columns):\n",
            " #   Column               Non-Null Count  Dtype\n",
            "---  ------               --------------  -----\n",
            " 0   age                  11161 non-null  int64\n",
            " 1   balance              11161 non-null  int64\n",
            " 2   campaign             11161 non-null  int64\n",
            " 3   pdays                11161 non-null  int64\n",
            " 4   previous             11161 non-null  int64\n",
            " 5   job_admin            11161 non-null  uint8\n",
            " 6   job_blue-collar      11161 non-null  uint8\n",
            " 7   job_entrepreneur     11161 non-null  uint8\n",
            " 8   job_housemaid        11161 non-null  uint8\n",
            " 9   job_management       11161 non-null  uint8\n",
            " 10  job_retired          11161 non-null  uint8\n",
            " 11  job_self-employed    11161 non-null  uint8\n",
            " 12  job_services         11161 non-null  uint8\n",
            " 13  job_student          11161 non-null  uint8\n",
            " 14  job_technician       11161 non-null  uint8\n",
            " 15  job_unemployed       11161 non-null  uint8\n",
            " 16  job_unknown          11161 non-null  uint8\n",
            " 17  marital_divorced     11161 non-null  uint8\n",
            " 18  marital_married      11161 non-null  uint8\n",
            " 19  marital_single       11161 non-null  uint8\n",
            " 20  education_primary    11161 non-null  uint8\n",
            " 21  education_secondary  11161 non-null  uint8\n",
            " 22  education_tertiary   11161 non-null  uint8\n",
            " 23  education_unknown    11161 non-null  uint8\n",
            " 24  default_no           11161 non-null  uint8\n",
            " 25  default_yes          11161 non-null  uint8\n",
            " 26  housing_no           11161 non-null  uint8\n",
            " 27  housing_yes          11161 non-null  uint8\n",
            " 28  loan_no              11161 non-null  uint8\n",
            " 29  loan_yes             11161 non-null  uint8\n",
            " 30  contact_cellular     11161 non-null  uint8\n",
            " 31  contact_telephone    11161 non-null  uint8\n",
            " 32  contact_unknown      11161 non-null  uint8\n",
            " 33  month_apr            11161 non-null  uint8\n",
            " 34  month_aug            11161 non-null  uint8\n",
            " 35  month_dec            11161 non-null  uint8\n",
            " 36  month_feb            11161 non-null  uint8\n",
            " 37  month_jan            11161 non-null  uint8\n",
            " 38  month_jul            11161 non-null  uint8\n",
            " 39  month_jun            11161 non-null  uint8\n",
            " 40  month_mar            11161 non-null  uint8\n",
            " 41  month_may            11161 non-null  uint8\n",
            " 42  month_nov            11161 non-null  uint8\n",
            " 43  month_oct            11161 non-null  uint8\n",
            " 44  month_sep            11161 non-null  uint8\n",
            " 45  poutcome_failure     11161 non-null  uint8\n",
            " 46  poutcome_other       11161 non-null  uint8\n",
            " 47  poutcome_success     11161 non-null  uint8\n",
            " 48  poutcome_unknown     11161 non-null  uint8\n",
            " 49  pdays2               11161 non-null  int64\n",
            " 50  depositNew           11161 non-null  int64\n",
            "dtypes: int64(7), uint8(44)\n",
            "memory usage: 1.1 MB\n"
          ]
        }
      ],
      "source": [
        "data.info()"
      ]
    },
    {
      "cell_type": "code",
      "execution_count": null,
      "metadata": {
        "colab": {
          "base_uri": "https://localhost:8080/"
        },
        "id": "h5C99aJIyczT",
        "outputId": "e6431695-2e63-4113-aaa8-0a78e9f12ec8"
      },
      "outputs": [
        {
          "name": "stdout",
          "output_type": "stream",
          "text": [
            "[[ 1.4926218   0.25261499 -0.55420079 ... -0.32579855  0.58352347\n",
            "  -0.58379938]\n",
            " [ 1.24065834 -0.4598839  -0.55420079 ... -0.32579855  0.58352347\n",
            "  -0.58379938]\n",
            " [-0.01915895 -0.08007052 -0.55420079 ... -0.32579855  0.58352347\n",
            "  -0.58379938]\n",
            " ...\n",
            " [-0.77504932 -0.46484473 -0.18682923 ... -0.32579855  0.58352347\n",
            "  -0.58379938]\n",
            " [ 0.14881669 -0.47383623 -0.18682923 ... -0.32579855 -1.71372713\n",
            "   1.71291719]\n",
            " [-0.60707368 -0.47383623 -0.55420079 ... -0.32579855  0.58352347\n",
            "  -0.58379938]]\n"
          ]
        }
      ],
      "source": [
        "#data normalization\n",
        "from sklearn.preprocessing import StandardScaler\n",
        "X = data.iloc[:, 0:50]\n",
        "Y = data.iloc[:, 50]\n",
        "nd = StandardScaler()\n",
        "nd.fit(X)\n",
        "X =nd.transform(X)\n",
        "print(X)"
      ]
    },
    {
      "cell_type": "code",
      "execution_count": null,
      "metadata": {
        "id": "SlfqKlgnydui"
      },
      "outputs": [],
      "source": [
        "from sklearn.model_selection import train_test_split\n",
        "from sklearn.metrics import classification_report, confusion_matrix\n",
        "from sklearn.metrics import accuracy_score, precision_score, f1_score, recall_score, roc_auc_score\n",
        "from sklearn.metrics import ConfusionMatrixDisplay, roc_curve\n",
        "X = data.iloc[:, 0:50]\n",
        "Y = data.iloc[:, 50]\n",
        "X_train, X_test, y_train, y_test = train_test_split( X, Y, test_size = 0.2, random_state = 100)\n",
        "\n",
        "accuracies = {}\n",
        "precisions= {}\n",
        "recalls= {}\n",
        "f1scores={}\n",
        "auc_roc_scores={}\n",
        "sensitivities={}\n",
        "specificities={}"
      ]
    },
    {
      "cell_type": "code",
      "execution_count": null,
      "metadata": {
        "colab": {
          "base_uri": "https://localhost:8080/"
        },
        "id": "NTfj-SPyZr4p",
        "outputId": "3a0944c1-eebc-41b0-82da-2c3a79518683"
      },
      "outputs": [
        {
          "name": "stdout",
          "output_type": "stream",
          "text": [
            "The time of execution of above program is : 1.6868114471435547 ms\n",
            "Logistic Regression accuracy: 68.78638602776533\n",
            "F1-Score:  67.23084156088387\n",
            "Precision:  66.82242990654206\n",
            "Recall:  67.64427625354777\n",
            "Sensitivity:  67.64427625354777\n",
            "Specificity:  69.81292517006803\n",
            "AUC (ROC):  68.7286007118079\n",
            "Error Rate:  31.21361397223467\n",
            "TPR:  67.64427625354777\n",
            "FPR:  30.187074829931973\n"
          ]
        }
      ],
      "source": [
        "#Logistic regression without regularization\n",
        " \n",
        "# record start time\n",
        "start = time.time()\n",
        " \n",
        "# define a sample code segment\n",
        "a = 0\n",
        "for i in range(1000):\n",
        "    a += (i**100)\n",
        " \n",
        "# record end time\n",
        "end = time.time()\n",
        " \n",
        "# print the difference between start\n",
        "# and end time in milli. secs\n",
        "print(\"The time of execution of above program is :\",\n",
        "      (end-start) * 10**3, \"ms\")\n",
        "\n",
        "from sklearn.linear_model import LogisticRegression\n",
        "lr=LogisticRegression(penalty='none')\n",
        "lr.fit(X_train,y_train)\n",
        "prediction = lr.predict(X_test)\n",
        "\n",
        "\n",
        "cr=classification_report(y_test,prediction, output_dict=True)\n",
        "acc = accuracy_score(y_test,prediction)*100\n",
        "print(\"Logistic Regression accuracy:\",acc)\n",
        "accuracies['Logistic Regression']=acc\n",
        "\n",
        "f1=f1_score(y_test,prediction)*100\n",
        "print(\"F1-Score: \",f1)\n",
        "f1scores['Logistic Regression']=f1\n",
        "\n",
        "precision = precision_score(y_test, prediction)*100\n",
        "print('Precision: ',precision)\n",
        "precisions['Logistic Regression']=precision\n",
        "\n",
        "recall = recall_score(y_test, prediction)*100\n",
        "print('Recall: ',recall)\n",
        "recalls['Logistic Regression']=recall\n",
        "\n",
        "sensitivity=cr['1']['recall']*100\n",
        "print('Sensitivity: ',sensitivity)\n",
        "sensitivities['Logistic Regression']=sensitivity\n",
        "\n",
        "\n",
        "specificity=cr['0']['recall']*100\n",
        "print('Specificity: ', specificity)\n",
        "specificities['Logistic Regression']=specificity\n",
        "\n",
        "auc_roc_score = roc_auc_score(y_test, prediction)*100\n",
        "print('AUC (ROC): ', auc_roc_score)\n",
        "auc_roc_scores['Logistic Regression']=auc_roc_score\n",
        "\n",
        "err=100-acc\n",
        "print(\"Error Rate: \",err)\n",
        "\n",
        "tpr=sensitivity\n",
        "print('TPR: ', tpr)\n",
        "\n",
        "fpr=100-specificity\n",
        "print('FPR: ', fpr)\n"
      ]
    },
    {
      "cell_type": "code",
      "execution_count": null,
      "metadata": {
        "colab": {
          "base_uri": "https://localhost:8080/",
          "height": 300
        },
        "id": "OeLIkZsKZ31O",
        "outputId": "bff32c44-989c-4be6-cf0a-90a007a6a67e"
      },
      "outputs": [
        {
          "data": {
            "image/png": "[encoded data removed]",
            "text/plain": [
              "<Figure size 432x288 with 2 Axes>"
            ]
          },
          "metadata": {
            "needs_background": "light"
          },
          "output_type": "display_data"
        }
      ],
      "source": [
        "cm=confusion_matrix(y_test,prediction)\n",
        "sns.heatmap(cm, annot=True,fmt=\".1f\",linewidths=3,square=True, cmap='PuBu',color=\"#cd1076\")\n",
        "plt.ylabel('actual label')\n",
        "plt.xlabel('predicted label')\n",
        "plt.title(\"Logistic Regression (without regularization)\", fontsize=20)\n",
        "plt.show()"
      ]
    },
    {
      "cell_type": "code",
      "execution_count": null,
      "metadata": {
        "colab": {
          "base_uri": "https://localhost:8080/",
          "height": 295
        },
        "id": "lITZLh2NcteV",
        "outputId": "70e9f6f7-e0be-4fa3-9d0a-08a87306e31d"
      },
      "outputs": [
        {
          "data": {
            "image/png": "[encoded data removed]",
            "text/plain": [
              "<Figure size 432x288 with 1 Axes>"
            ]
          },
          "metadata": {
            "needs_background": "light"
          },
          "output_type": "display_data"
        }
      ],
      "source": [
        "fpr, tpr, _ = roc_curve(y_test,  prediction)\n",
        "plt.plot(fpr,tpr,label=\"AUC=\"+str(auc_roc_score))\n",
        "plt.ylabel('True Positive Rate')\n",
        "plt.xlabel('False Positive Rate')\n",
        "plt.title('ROC Curve')\n",
        "plt.legend(loc=4)\n",
        "plt.show()"
      ]
    },
    {
      "cell_type": "code",
      "execution_count": null,
      "metadata": {
        "colab": {
          "base_uri": "https://localhost:8080/"
        },
        "id": "drXp4Kns0RD3",
        "outputId": "15ae4c21-34c5-4883-eede-ce67199f2f12"
      },
      "outputs": [
        {
          "name": "stdout",
          "output_type": "stream",
          "text": [
            "The time of execution of above program is : 2.0568370819091797 ms\n",
            "Logistic Regression accuracy: 70.71204657411553\n",
            "F1-Score:  67.36526946107784\n",
            "Precision:  71.27771911298838\n",
            "Recall:  63.85998107852412\n",
            "Sensitivity:  63.85998107852412\n",
            "Specificity:  76.87074829931973\n",
            "AUC (ROC):  70.36536468892193\n",
            "Error Rate:  29.287953425884467\n",
            "TPR:  63.85998107852412\n",
            "FPR:  23.12925170068027\n"
          ]
        }
      ],
      "source": [
        "#Logistic regression with regularization\n",
        " \n",
        "# record start time\n",
        "start = time.time()\n",
        " \n",
        "# define a sample code segment\n",
        "a = 0\n",
        "for i in range(1000):\n",
        "    a += (i**100)\n",
        " \n",
        "# record end time\n",
        "end = time.time()\n",
        " \n",
        "# print the difference between start\n",
        "# and end time in milli. secs\n",
        "print(\"The time of execution of above program is :\",\n",
        "      (end-start) * 10**3, \"ms\")\n",
        "\n",
        "\n",
        "lr=LogisticRegression(random_state=101,multi_class='ovr',solver='liblinear',class_weight='balanced',C=0.2)\n",
        "lr.fit(X_train,y_train)\n",
        "prediction = lr.predict(X_test)\n",
        "\n",
        "\n",
        "cr=classification_report(y_test,prediction, output_dict=True)\n",
        "acc = accuracy_score(y_test,prediction)*100\n",
        "print(\"Logistic Regression accuracy:\",acc)\n",
        "accuracies['Logistic Regression']=acc\n",
        "\n",
        "f1=f1_score(y_test,prediction)*100\n",
        "print(\"F1-Score: \",f1)\n",
        "f1scores['Logistic Regression']=f1\n",
        "\n",
        "precision = precision_score(y_test, prediction)*100\n",
        "print('Precision: ',precision)\n",
        "precisions['Logistic Regression']=precision\n",
        "\n",
        "recall = recall_score(y_test, prediction)*100\n",
        "print('Recall: ',recall)\n",
        "recalls['Logistic Regression']=recall\n",
        "\n",
        "sensitivity=cr['1']['recall']*100\n",
        "print('Sensitivity: ',sensitivity)\n",
        "sensitivities['Logistic Regression']=sensitivity\n",
        "\n",
        "\n",
        "specificity=cr['0']['recall']*100\n",
        "print('Specificity: ', specificity)\n",
        "specificities['Logistic Regression']=specificity\n",
        "\n",
        "auc_roc_score = roc_auc_score(y_test, prediction)*100\n",
        "print('AUC (ROC): ', auc_roc_score)\n",
        "auc_roc_scores['Logistic Regression']=auc_roc_score\n",
        "\n",
        "err=100-acc\n",
        "print(\"Error Rate: \",err)\n",
        "\n",
        "tpr=sensitivity\n",
        "print('TPR: ', tpr)\n",
        "\n",
        "fpr=100-specificity\n",
        "print('FPR: ', fpr)\n"
      ]
    },
    {
      "cell_type": "code",
      "execution_count": null,
      "metadata": {
        "colab": {
          "base_uri": "https://localhost:8080/",
          "height": 300
        },
        "id": "B79_TwC-2fJ6",
        "outputId": "25a9796a-7b76-4a1a-d255-41ccd2d5b72b"
      },
      "outputs": [
        {
          "data": {
            "image/png": "[encoded data removed]",
            "text/plain": [
              "<Figure size 432x288 with 2 Axes>"
            ]
          },
          "metadata": {
            "needs_background": "light"
          },
          "output_type": "display_data"
        }
      ],
      "source": [
        "cm=confusion_matrix(y_test,prediction)\n",
        "sns.heatmap(cm, annot=True,fmt=\".1f\",linewidths=3,square=True, cmap='PuBu',color=\"#cd1076\")\n",
        "plt.ylabel('actual label')\n",
        "plt.xlabel('predicted label')\n",
        "plt.title(\"Logistic Regression\", fontsize=20)\n",
        "plt.show()"
      ]
    },
    {
      "cell_type": "code",
      "execution_count": null,
      "metadata": {
        "colab": {
          "base_uri": "https://localhost:8080/",
          "height": 295
        },
        "id": "gVGuUne4Ch2Q",
        "outputId": "f32a1316-1230-45de-f824-0c668bbc8c7e"
      },
      "outputs": [
        {
          "data": {
            "image/png": "[encoded data removed]",
            "text/plain": [
              "<Figure size 432x288 with 1 Axes>"
            ]
          },
          "metadata": {
            "needs_background": "light"
          },
          "output_type": "display_data"
        }
      ],
      "source": [
        "fpr, tpr, _ = roc_curve(y_test,  prediction)\n",
        "plt.plot(fpr,tpr,label=\"AUC=\"+str(auc_roc_score))\n",
        "plt.ylabel('True Positive Rate')\n",
        "plt.xlabel('False Positive Rate')\n",
        "plt.title('ROC Curve')\n",
        "plt.legend(loc=4)\n",
        "plt.show()"
      ]
    },
    {
      "cell_type": "code",
      "execution_count": null,
      "metadata": {
        "colab": {
          "base_uri": "https://localhost:8080/"
        },
        "id": "FfMiE5w7AKiG",
        "outputId": "17037dc1-b6d6-43ac-8f32-be88420b48b6"
      },
      "outputs": [
        {
          "name": "stdout",
          "output_type": "stream",
          "text": [
            "The time of execution of above program is : 1.0225772857666016 ms\n",
            "KNN accuracy: 60.94939543215405\n",
            "F1-Score:  49.419953596287705\n",
            "Precision:  63.8680659670165\n",
            "Recall:  40.30274361400189\n",
            "Sensitivity:  40.30274361400189\n",
            "Specificity:  79.50680272108843\n",
            "AUC (ROC):  59.904773167545166\n",
            "Error Rate:  39.05060456784595\n",
            "TPR:  40.30274361400189\n",
            "FPR:  20.493197278911566\n"
          ]
        }
      ],
      "source": [
        "#KNN\n",
        "\n",
        "# record start time\n",
        "start = time.time()\n",
        " \n",
        "# define a sample code segment\n",
        "a = 0\n",
        "for i in range(1000):\n",
        "    a += (i**100)\n",
        " \n",
        "# record end time\n",
        "end = time.time()\n",
        " \n",
        "# print the difference between start\n",
        "# and end time in milli. secs\n",
        "print(\"The time of execution of above program is :\",\n",
        "      (end-start) * 10**3, \"ms\")\n",
        "\n",
        "from sklearn.neighbors import KNeighborsClassifier\n",
        "knn= KNeighborsClassifier(n_neighbors = 4,algorithm='ball_tree')\n",
        "knn.fit(X_train, y_train)\n",
        "prediction=knn.predict(X_test)\n",
        "\n",
        "\n",
        "cr=classification_report(y_test,prediction, output_dict=True)\n",
        "acc = accuracy_score(y_test,prediction)*100\n",
        "print(\"KNN accuracy:\",acc)\n",
        "accuracies['KNN']=acc\n",
        "\n",
        "f1=f1_score(y_test,prediction)*100\n",
        "print(\"F1-Score: \",f1)\n",
        "f1scores['KNN']=f1\n",
        "\n",
        "precision = precision_score(y_test, prediction)*100\n",
        "print('Precision: ',precision)\n",
        "precisions['KNN']=precision\n",
        "\n",
        "recall = recall_score(y_test, prediction)*100\n",
        "print('Recall: ',recall)\n",
        "recalls['KNN']=recall\n",
        "\n",
        "sensitivity=cr['1']['recall']*100\n",
        "print('Sensitivity: ',sensitivity)\n",
        "sensitivities['KNN']=sensitivity\n",
        "\n",
        "specificity=cr['0']['recall']*100\n",
        "print('Specificity: ', specificity)\n",
        "specificities['KNN']=specificity\n",
        "\n",
        "auc_roc_score = roc_auc_score(y_test, prediction)*100\n",
        "print('AUC (ROC): ', auc_roc_score)\n",
        "auc_roc_scores['KNN']=auc_roc_score\n",
        "\n",
        "err=100-acc\n",
        "print(\"Error Rate: \",err)\n",
        "\n",
        "tpr=sensitivity\n",
        "print('TPR: ', tpr)\n",
        "\n",
        "fpr=100-specificity\n",
        "print('FPR: ', fpr)"
      ]
    },
    {
      "cell_type": "code",
      "execution_count": null,
      "metadata": {
        "colab": {
          "base_uri": "https://localhost:8080/",
          "height": 300
        },
        "id": "6jXx0ZGQOQpj",
        "outputId": "43441c11-2bed-4427-cfa3-ca2d76edf82c"
      },
      "outputs": [
        {
          "data": {
            "image/png": "[encoded data removed]",
            "text/plain": [
              "<Figure size 432x288 with 2 Axes>"
            ]
          },
          "metadata": {
            "needs_background": "light"
          },
          "output_type": "display_data"
        }
      ],
      "source": [
        "cm=confusion_matrix(y_test,prediction)\n",
        "sns.heatmap(cm, annot=True,fmt=\".1f\",linewidths=3,square=True, cmap='PuBu',color=\"#cd1076\")\n",
        "plt.ylabel('actual label')\n",
        "plt.xlabel('predicted label')\n",
        "plt.title(\"KNN\", fontsize=20)\n",
        "plt.show()"
      ]
    },
    {
      "cell_type": "code",
      "execution_count": null,
      "metadata": {
        "colab": {
          "base_uri": "https://localhost:8080/",
          "height": 295
        },
        "id": "V-aPyqRIc-Vw",
        "outputId": "10dcda4a-72d8-428f-b33c-40cd121fa416"
      },
      "outputs": [
        {
          "data": {
            "image/png": "[encoded data removed]",
            "text/plain": [
              "<Figure size 432x288 with 1 Axes>"
            ]
          },
          "metadata": {
            "needs_background": "light"
          },
          "output_type": "display_data"
        }
      ],
      "source": [
        "fpr, tpr, _ = roc_curve(y_test,  prediction)\n",
        "plt.plot(fpr,tpr,label=\"AUC=\"+str(auc_roc_score))\n",
        "plt.ylabel('True Positive Rate')\n",
        "plt.xlabel('False Positive Rate')\n",
        "plt.title('ROC Curve')\n",
        "plt.legend(loc=4)\n",
        "plt.show()"
      ]
    },
    {
      "cell_type": "code",
      "execution_count": null,
      "metadata": {
        "colab": {
          "base_uri": "https://localhost:8080/"
        },
        "id": "fJ8z8FDxJdBE",
        "outputId": "6c2b9107-326b-4cd4-e739-ab0c1bbc5b84"
      },
      "outputs": [
        {
          "name": "stdout",
          "output_type": "stream",
          "text": [
            "The time of execution of above program is : 1.4371871948242188 ms\n",
            "Naive Bayes accuracy: 68.3833407971339\n",
            "F1-Score:  62.08378088077337\n",
            "Precision:  71.80124223602485\n",
            "Recall:  54.68306527909177\n",
            "Sensitivity:  54.68306527909177\n",
            "Specificity:  80.69727891156462\n",
            "AUC (ROC):  67.6901720953282\n",
            "Error Rate:  31.616659202866103\n",
            "TPR:  54.68306527909177\n",
            "FPR:  19.302721088435376\n"
          ]
        }
      ],
      "source": [
        "#Naive Bayes\n",
        "\n",
        "# record start time\n",
        "start = time.time()\n",
        " \n",
        "# define a sample code segment\n",
        "a = 0\n",
        "for i in range(1000):\n",
        "    a += (i**100)\n",
        " \n",
        "# record end time\n",
        "end = time.time()\n",
        " \n",
        "# print the difference between start\n",
        "# and end time in milli. secs\n",
        "print(\"The time of execution of above program is :\",\n",
        "      (end-start) * 10**3, \"ms\")\n",
        "\n",
        "from sklearn.naive_bayes import GaussianNB\n",
        "nb=GaussianNB()\n",
        "nb.fit(X_train,y_train)\n",
        "naiveb=nb.predict(X_test)\n",
        "prediction= nb.predict(X_test)\n",
        "\n",
        "\n",
        "cr=classification_report(y_test,prediction, output_dict=True)\n",
        "acc = accuracy_score(y_test,prediction)*100\n",
        "print(\"Naive Bayes accuracy:\",acc)\n",
        "accuracies['Naive Bayes']=acc\n",
        "\n",
        "f1=f1_score(y_test,prediction)*100\n",
        "print(\"F1-Score: \",f1)\n",
        "f1scores['Naive Bayes']=f1\n",
        "\n",
        "precision = precision_score(y_test, prediction)*100\n",
        "print('Precision: ',precision)\n",
        "precisions['Naive Bayes']=precision\n",
        "\n",
        "recall = recall_score(y_test, prediction)*100\n",
        "print('Recall: ',recall)\n",
        "recalls['Naive Bayes']=recall\n",
        "\n",
        "sensitivity=cr['1']['recall']*100\n",
        "print('Sensitivity: ',sensitivity)\n",
        "sensitivities['Naive Bayes']=sensitivity\n",
        "\n",
        "specificity=cr['0']['recall']*100\n",
        "print('Specificity: ', specificity)\n",
        "specificities['Naive Bayes']=specificity\n",
        "\n",
        "auc_roc_score = roc_auc_score(y_test, prediction)*100\n",
        "print('AUC (ROC): ', auc_roc_score)\n",
        "auc_roc_scores['Naive Bayes']=auc_roc_score\n",
        "\n",
        "err=100-acc\n",
        "print(\"Error Rate: \",err)\n",
        "\n",
        "tpr=sensitivity\n",
        "print('TPR: ', tpr)\n",
        "\n",
        "fpr=100-specificity\n",
        "print('FPR: ', fpr)"
      ]
    },
    {
      "cell_type": "code",
      "execution_count": null,
      "metadata": {
        "colab": {
          "base_uri": "https://localhost:8080/",
          "height": 300
        },
        "id": "zodPB5QVOauz",
        "outputId": "5c21415b-ccca-49bb-e894-52afe8b4c0ba"
      },
      "outputs": [
        {
          "data": {
            "image/png": "[encoded data removed]",
            "text/plain": [
              "<Figure size 432x288 with 2 Axes>"
            ]
          },
          "metadata": {
            "needs_background": "light"
          },
          "output_type": "display_data"
        }
      ],
      "source": [
        "cm=confusion_matrix(y_test,prediction)\n",
        "sns.heatmap(cm, annot=True,fmt=\".1f\",linewidths=3,square=True, cmap='PuBu',color=\"#cd1076\")\n",
        "plt.ylabel('actual label')\n",
        "plt.xlabel('predicted label')\n",
        "plt.title(\"Naive Bayes\", fontsize=20)\n",
        "plt.show()"
      ]
    },
    {
      "cell_type": "code",
      "execution_count": null,
      "metadata": {
        "colab": {
          "base_uri": "https://localhost:8080/",
          "height": 295
        },
        "id": "OOtTxiGPd5bK",
        "outputId": "6224a77c-3103-4426-8295-4c499c182366"
      },
      "outputs": [
        {
          "data": {
            "image/png": "[encoded data removed]",
            "text/plain": [
              "<Figure size 432x288 with 1 Axes>"
            ]
          },
          "metadata": {
            "needs_background": "light"
          },
          "output_type": "display_data"
        }
      ],
      "source": [
        "fpr, tpr, _ = roc_curve(y_test,  prediction)\n",
        "plt.plot(fpr,tpr,label=\"AUC=\"+str(auc_roc_score))\n",
        "plt.ylabel('True Positive Rate')\n",
        "plt.xlabel('False Positive Rate')\n",
        "plt.title('ROC Curve')\n",
        "plt.legend(loc=4)\n",
        "plt.show()"
      ]
    },
    {
      "cell_type": "code",
      "execution_count": null,
      "metadata": {
        "colab": {
          "base_uri": "https://localhost:8080/"
        },
        "id": "dUcMIFPOJ0To",
        "outputId": "e1e85f10-13c7-4a4f-c76f-e78f049060c0"
      },
      "outputs": [
        {
          "name": "stdout",
          "output_type": "stream",
          "text": [
            "The time of execution of above program is : 1.2104511260986328 ms\n",
            "Decision Tree(gini) accuracy: 70.53291536050156\n",
            "F1-Score:  62.61363636363636\n",
            "Precision:  78.37837837837837\n",
            "Recall:  52.1286660359508\n",
            "Sensitivity:  52.1286660359508\n",
            "Specificity:  87.07482993197279\n",
            "AUC (ROC):  69.60174798396179\n",
            "Error Rate:  29.467084639498438\n",
            "TPR:  52.1286660359508\n",
            "FPR:  12.925170068027214\n"
          ]
        }
      ],
      "source": [
        "#Decision Tree(gini index)\n",
        "\n",
        "# record start time\n",
        "start = time.time()\n",
        " \n",
        "# define a sample code segment\n",
        "a = 0\n",
        "for i in range(1000):\n",
        "    a += (i**100)\n",
        " \n",
        "# record end time\n",
        "end = time.time()\n",
        " \n",
        "# print the difference between start\n",
        "# and end time in milli. secs\n",
        "print(\"The time of execution of above program is :\",\n",
        "      (end-start) * 10**3, \"ms\")\n",
        "\n",
        "from sklearn.tree import DecisionTreeClassifier\n",
        "dtree= DecisionTreeClassifier(criterion='gini',max_depth=10,random_state=100,min_samples_leaf=10)\n",
        "dtree.fit(X_train, y_train)\n",
        "prediction=dtree.predict(X_test)\n",
        "\n",
        "\n",
        "cr=classification_report(y_test,prediction, output_dict=True)\n",
        "acc = accuracy_score(y_test,prediction)*100\n",
        "print(\"Decision Tree(gini) accuracy:\",acc)\n",
        "accuracies['Decision Tree(gini)']=acc\n",
        "\n",
        "f1=f1_score(y_test,prediction)*100\n",
        "print(\"F1-Score: \",f1)\n",
        "f1scores['Decision Tree(gini)']=f1\n",
        "\n",
        "precision = precision_score(y_test, prediction)*100\n",
        "print('Precision: ',precision)\n",
        "precisions['Decision Tree(gini)']=precision\n",
        "\n",
        "recall = recall_score(y_test, prediction)*100\n",
        "print('Recall: ',recall)\n",
        "recalls['Decision Tree(gini)']=recall\n",
        "\n",
        "sensitivity=cr['1']['recall']*100\n",
        "print('Sensitivity: ',sensitivity)\n",
        "sensitivities['Decision Tree(gini)']=sensitivity\n",
        "\n",
        "specificity=cr['0']['recall']*100\n",
        "print('Specificity: ', specificity)\n",
        "specificities['Decision Tree(gini)']=specificity\n",
        "\n",
        "auc_roc_score = roc_auc_score(y_test, prediction)*100\n",
        "print('AUC (ROC): ', auc_roc_score)\n",
        "auc_roc_scores['Decision Tree(gini)']=auc_roc_score\n",
        "\n",
        "err=100-acc\n",
        "print(\"Error Rate: \",err)\n",
        "\n",
        "tpr=sensitivity\n",
        "print('TPR: ', tpr)\n",
        "\n",
        "fpr=100-specificity\n",
        "print('FPR: ', fpr)"
      ]
    },
    {
      "cell_type": "code",
      "execution_count": null,
      "metadata": {
        "colab": {
          "base_uri": "https://localhost:8080/",
          "height": 300
        },
        "id": "6TTa62tSOgcw",
        "outputId": "a85b7662-9446-4681-e94f-012340190229"
      },
      "outputs": [
        {
          "data": {
            "image/png": "[encoded data removed]",
            "text/plain": [
              "<Figure size 432x288 with 2 Axes>"
            ]
          },
          "metadata": {
            "needs_background": "light"
          },
          "output_type": "display_data"
        }
      ],
      "source": [
        "cm=confusion_matrix(y_test,prediction)\n",
        "sns.heatmap(cm, annot=True,fmt=\".1f\",linewidths=3,square=True, cmap='PuBu',color=\"#cd1076\")\n",
        "plt.ylabel('actual label')\n",
        "plt.xlabel('predicted label')\n",
        "plt.title(\"Decision Tree(gini index)\", fontsize=20)\n",
        "plt.show()"
      ]
    },
    {
      "cell_type": "code",
      "execution_count": null,
      "metadata": {
        "colab": {
          "base_uri": "https://localhost:8080/",
          "height": 295
        },
        "id": "_A2jbu6wd7Dz",
        "outputId": "a36b7555-4729-4678-ccfe-03888b13df90"
      },
      "outputs": [
        {
          "data": {
            "image/png": "[encoded data removed]",
            "text/plain": [
              "<Figure size 432x288 with 1 Axes>"
            ]
          },
          "metadata": {
            "needs_background": "light"
          },
          "output_type": "display_data"
        }
      ],
      "source": [
        "fpr, tpr, _ = roc_curve(y_test,  prediction)\n",
        "plt.plot(fpr,tpr,label=\"AUC=\"+str(auc_roc_score))\n",
        "plt.ylabel('True Positive Rate')\n",
        "plt.xlabel('False Positive Rate')\n",
        "plt.title('ROC Curve')\n",
        "plt.legend(loc=4)\n",
        "plt.show()"
      ]
    },
    {
      "cell_type": "code",
      "execution_count": null,
      "metadata": {
        "colab": {
          "base_uri": "https://localhost:8080/"
        },
        "id": "vAEx2zx3KdAF",
        "outputId": "f9ed40d0-1a34-40bf-c7fa-746210070118"
      },
      "outputs": [
        {
          "name": "stdout",
          "output_type": "stream",
          "text": [
            "The time of execution of above program is : 1.7745494842529297 ms\n",
            "Decision Tree(information gain) accuracy: 69.50291088222123\n",
            "F1-Score:  63.56340288924559\n",
            "Precision:  73.15270935960592\n",
            "Recall:  56.19678334910123\n",
            "Sensitivity:  56.19678334910123\n",
            "Specificity:  81.4625850340136\n",
            "AUC (ROC):  68.82968419155742\n",
            "Error Rate:  30.49708911777877\n",
            "TPR:  56.19678334910123\n",
            "FPR:  18.5374149659864\n"
          ]
        }
      ],
      "source": [
        "#Decision Tree(information gain)\n",
        "\n",
        "# record start time\n",
        "start = time.time()\n",
        " \n",
        "# define a sample code segment\n",
        "a = 0\n",
        "for i in range(1000):\n",
        "    a += (i**100)\n",
        " \n",
        "# record end time\n",
        "end = time.time()\n",
        " \n",
        "# print the difference between start\n",
        "# and end time in milli. secs\n",
        "print(\"The time of execution of above program is :\",\n",
        "      (end-start) * 10**3, \"ms\")\n",
        "\n",
        "dtree= DecisionTreeClassifier(criterion='entropy',max_depth=10,random_state=100,min_samples_leaf=10)\n",
        "dtree.fit(X_train, y_train)\n",
        "prediction=dtree.predict(X_test)\n",
        "\n",
        "\n",
        "cr=classification_report(y_test,prediction, output_dict=True)\n",
        "acc = accuracy_score(y_test,prediction)*100\n",
        "print(\"Decision Tree(information gain) accuracy:\",acc)\n",
        "accuracies['Decision Tree(information gain)']=acc\n",
        "\n",
        "f1=f1_score(y_test,prediction)*100\n",
        "print(\"F1-Score: \",f1)\n",
        "f1scores['Decision Tree(information gain)']=f1\n",
        "\n",
        "precision = precision_score(y_test, prediction)*100\n",
        "print('Precision: ',precision)\n",
        "precisions['Decision Tree(information gain)']=precision\n",
        "\n",
        "recall = recall_score(y_test, prediction)*100\n",
        "print('Recall: ',recall)\n",
        "recalls['Decision Tree(information gain)']=recall\n",
        "\n",
        "sensitivity=cr['1']['recall']*100\n",
        "print('Sensitivity: ',sensitivity)\n",
        "sensitivities['Decision Tree(information gain)']=sensitivity\n",
        "\n",
        "specificity=cr['0']['recall']*100\n",
        "print('Specificity: ', specificity)\n",
        "specificities['Decision Tree(information gain)']=specificity\n",
        "\n",
        "auc_roc_score = roc_auc_score(y_test, prediction)*100\n",
        "print('AUC (ROC): ', auc_roc_score)\n",
        "auc_roc_scores['Decision Tree(information gain)']=auc_roc_score\n",
        "\n",
        "err=100-acc\n",
        "print(\"Error Rate: \",err)\n",
        "\n",
        "tpr=sensitivity\n",
        "print('TPR: ', tpr)\n",
        "\n",
        "fpr=100-specificity\n",
        "print('FPR: ', fpr)"
      ]
    },
    {
      "cell_type": "code",
      "execution_count": null,
      "metadata": {
        "colab": {
          "base_uri": "https://localhost:8080/",
          "height": 300
        },
        "id": "OYENFSKgOjU3",
        "outputId": "407786bf-b866-4434-ba9a-ca3171598bf0"
      },
      "outputs": [
        {
          "data": {
            "image/png": "[encoded data removed]",
            "text/plain": [
              "<Figure size 432x288 with 2 Axes>"
            ]
          },
          "metadata": {
            "needs_background": "light"
          },
          "output_type": "display_data"
        }
      ],
      "source": [
        "cm=confusion_matrix(y_test,prediction)\n",
        "sns.heatmap(cm, annot=True,fmt=\".1f\",linewidths=3,square=True, cmap='PuBu',color=\"#cd1076\")\n",
        "plt.ylabel('actual label')\n",
        "plt.xlabel('predicted label')\n",
        "plt.title(\"Decision Tree(information gain)\", fontsize=20)\n",
        "plt.show()"
      ]
    },
    {
      "cell_type": "code",
      "execution_count": null,
      "metadata": {
        "colab": {
          "base_uri": "https://localhost:8080/",
          "height": 295
        },
        "id": "xOgHNRA5d9Dj",
        "outputId": "a068bdfe-b7f7-450f-8f0f-58ebb9c1b2de"
      },
      "outputs": [
        {
          "data": {
            "image/png": "[encoded data removed]",
            "text/plain": [
              "<Figure size 432x288 with 1 Axes>"
            ]
          },
          "metadata": {
            "needs_background": "light"
          },
          "output_type": "display_data"
        }
      ],
      "source": [
        "fpr, tpr, _ = roc_curve(y_test,  prediction)\n",
        "plt.plot(fpr,tpr,label=\"AUC=\"+str(auc_roc_score))\n",
        "plt.ylabel('True Positive Rate')\n",
        "plt.xlabel('False Positive Rate')\n",
        "plt.title('ROC Curve')\n",
        "plt.legend(loc=4)\n",
        "plt.show()"
      ]
    },
    {
      "cell_type": "code",
      "execution_count": null,
      "metadata": {
        "colab": {
          "base_uri": "https://localhost:8080/"
        },
        "id": "D20d8oDpLJ5P",
        "outputId": "dde53544-769c-4067-913a-ed7cb62bf902"
      },
      "outputs": [
        {
          "name": "stdout",
          "output_type": "stream",
          "text": [
            "The time of execution of above program is : 1.9636154174804688 ms\n",
            "Random Forest accuracy: 72.05553067622034\n",
            "F1-Score:  66.5236051502146\n",
            "Precision:  76.82775712515489\n",
            "Recall:  58.6565752128666\n",
            "Sensitivity:  58.6565752128666\n",
            "Specificity:  84.0986394557823\n",
            "AUC (ROC):  71.37760733432445\n",
            "Error Rate:  27.944469323779657\n",
            "TPR:  58.6565752128666\n",
            "FPR:  15.901360544217695\n"
          ]
        }
      ],
      "source": [
        "#Random Forest\n",
        "\n",
        "# record start time\n",
        "start = time.time()\n",
        " \n",
        "# define a sample code segment\n",
        "a = 0\n",
        "for i in range(1000):\n",
        "    a += (i**100)\n",
        " \n",
        "# record end time\n",
        "end = time.time()\n",
        " \n",
        "# print the difference between start\n",
        "# and end time in milli. secs\n",
        "print(\"The time of execution of above program is :\",\n",
        "      (end-start) * 10**3, \"ms\")\n",
        "\n",
        "from sklearn.ensemble import RandomForestClassifier\n",
        "clf = RandomForestClassifier(n_estimators=100, max_depth=12,\n",
        "                             random_state=50)\n",
        "\n",
        "clf.fit(X_train,y_train)\n",
        "\n",
        "prediction = clf.predict(X_test)\n",
        "\n",
        "\n",
        "cr=classification_report(y_test,prediction, output_dict=True)\n",
        "acc = accuracy_score(y_test,prediction)*100\n",
        "print(\"Random Forest accuracy:\",acc)\n",
        "accuracies['Random Forest']=acc\n",
        "\n",
        "f1=f1_score(y_test,prediction)*100\n",
        "print(\"F1-Score: \",f1)\n",
        "f1scores['Random Forest']=f1\n",
        "\n",
        "precision = precision_score(y_test, prediction)*100\n",
        "print('Precision: ',precision)\n",
        "precisions['Random Forest']=precision\n",
        "\n",
        "recall = recall_score(y_test, prediction)*100\n",
        "print('Recall: ',recall)\n",
        "recalls['Random Forest']=recall\n",
        "\n",
        "sensitivity=cr['1']['recall']*100\n",
        "print('Sensitivity: ',sensitivity)\n",
        "sensitivities['Random Forest']=sensitivity\n",
        "\n",
        "specificity=cr['0']['recall']*100\n",
        "print('Specificity: ', specificity)\n",
        "specificities['Random Forest']=specificity\n",
        "\n",
        "auc_roc_score = roc_auc_score(y_test, prediction)*100\n",
        "print('AUC (ROC): ', auc_roc_score)\n",
        "auc_roc_scores['Random Forest']=auc_roc_score\n",
        "\n",
        "err=100-acc\n",
        "print(\"Error Rate: \",err)\n",
        "\n",
        "tpr=sensitivity\n",
        "print('TPR: ', tpr)\n",
        "\n",
        "fpr=100-specificity\n",
        "print('FPR: ', fpr)"
      ]
    },
    {
      "cell_type": "code",
      "execution_count": null,
      "metadata": {
        "colab": {
          "base_uri": "https://localhost:8080/",
          "height": 300
        },
        "id": "jLbcQlWXOkJm",
        "outputId": "0617fd73-c162-4078-fe4e-251dfa8470bc"
      },
      "outputs": [
        {
          "data": {
            "image/png": "[encoded data removed]",
            "text/plain": [
              "<Figure size 432x288 with 2 Axes>"
            ]
          },
          "metadata": {
            "needs_background": "light"
          },
          "output_type": "display_data"
        }
      ],
      "source": [
        "cm=confusion_matrix(y_test,prediction)\n",
        "sns.heatmap(cm, annot=True,fmt=\".1f\",linewidths=3,square=True, cmap='PuBu',color=\"#cd1076\")\n",
        "plt.ylabel('actual label')\n",
        "plt.xlabel('predicted label')\n",
        "plt.title(\"Random Forest\", fontsize=20)\n",
        "plt.show()"
      ]
    },
    {
      "cell_type": "code",
      "execution_count": null,
      "metadata": {
        "colab": {
          "base_uri": "https://localhost:8080/",
          "height": 295
        },
        "id": "P3QCwQNOeDHE",
        "outputId": "d53f6efc-1375-4176-b4b0-df299ae6eed4"
      },
      "outputs": [
        {
          "data": {
            "image/png": "[encoded data removed]",
            "text/plain": [
              "<Figure size 432x288 with 1 Axes>"
            ]
          },
          "metadata": {
            "needs_background": "light"
          },
          "output_type": "display_data"
        }
      ],
      "source": [
        "fpr, tpr, _ = roc_curve(y_test,  prediction)\n",
        "plt.plot(fpr,tpr,label=\"AUC=\"+str(auc_roc_score))\n",
        "plt.ylabel('True Positive Rate')\n",
        "plt.xlabel('False Positive Rate')\n",
        "plt.title('ROC Curve')\n",
        "plt.legend(loc=4)\n",
        "plt.show()"
      ]
    },
    {
      "cell_type": "code",
      "execution_count": null,
      "metadata": {
        "colab": {
          "base_uri": "https://localhost:8080/"
        },
        "id": "OO0eDsQcLTiR",
        "outputId": "0b81a5b8-6693-4b2b-d4ec-f27d697f4a6e"
      },
      "outputs": [
        {
          "name": "stdout",
          "output_type": "stream",
          "text": [
            "The time of execution of above program is : 1.1234283447265625 ms\n",
            "Gradient Boosting accuracy: 70.98074339453649\n",
            "F1-Score:  66.14420062695925\n",
            "Precision:  73.86231038506418\n",
            "Recall:  59.88647114474929\n",
            "Sensitivity:  59.88647114474929\n",
            "Specificity:  80.95238095238095\n",
            "AUC (ROC):  70.41942604856511\n",
            "Error Rate:  29.01925660546351\n",
            "TPR:  59.88647114474929\n",
            "FPR:  19.04761904761905\n"
          ]
        }
      ],
      "source": [
        "#Gradient Boosting Classifier\n",
        "\n",
        "# record start time\n",
        "start = time.time()\n",
        " \n",
        "# define a sample code segment\n",
        "a = 0\n",
        "for i in range(1000):\n",
        "    a += (i**100)\n",
        " \n",
        "# record end time\n",
        "end = time.time()\n",
        " \n",
        "# print the difference between start\n",
        "# and end time in milli. secs\n",
        "print(\"The time of execution of above program is :\",\n",
        "      (end-start) * 10**3, \"ms\")\n",
        "\n",
        "from sklearn.ensemble import GradientBoostingClassifier\n",
        "clf = GradientBoostingClassifier(n_estimators=100, learning_rate=0.8,\n",
        "    max_depth=2, random_state=0)\n",
        "clf.fit(X_train, y_train)\n",
        "prediction = clf.predict(X_test)\n",
        "\n",
        "cr=classification_report(y_test,prediction, output_dict=True)\n",
        "acc = accuracy_score(y_test,prediction)*100\n",
        "print(\"Gradient Boosting accuracy:\",acc)\n",
        "accuracies['Gradient Boosting']=acc\n",
        "\n",
        "f1=f1_score(y_test,prediction)*100\n",
        "print(\"F1-Score: \",f1)\n",
        "f1scores['Gradient Boosting']=f1\n",
        "\n",
        "precision = precision_score(y_test, prediction)*100\n",
        "print('Precision: ',precision)\n",
        "precisions['Gradient Boosting']=precision\n",
        "\n",
        "recall = recall_score(y_test, prediction)*100\n",
        "print('Recall: ',recall)\n",
        "recalls['Gradient Boosting']=recall\n",
        "\n",
        "sensitivity=cr['1']['recall']*100\n",
        "print('Sensitivity: ',sensitivity)\n",
        "sensitivities['Gradient Boosting']=sensitivity\n",
        "\n",
        "specificity=cr['0']['recall']*100\n",
        "print('Specificity: ', specificity)\n",
        "specificities['Gradient Boosting']=specificity\n",
        "\n",
        "auc_roc_score = roc_auc_score(y_test, prediction)*100\n",
        "print('AUC (ROC): ', auc_roc_score)\n",
        "auc_roc_scores['Gradient Boosting']=auc_roc_score\n",
        "\n",
        "err=100-acc\n",
        "print(\"Error Rate: \",err)\n",
        "\n",
        "tpr=sensitivity\n",
        "print('TPR: ', tpr)\n",
        "\n",
        "fpr=100-specificity\n",
        "print('FPR: ', fpr)"
      ]
    },
    {
      "cell_type": "code",
      "execution_count": null,
      "metadata": {
        "colab": {
          "base_uri": "https://localhost:8080/",
          "height": 300
        },
        "id": "VO1VBtvVOlGo",
        "outputId": "487ce928-a179-4fad-9d73-48030416e127"
      },
      "outputs": [
        {
          "data": {
            "image/png": "[encoded data removed]",
            "text/plain": [
              "<Figure size 432x288 with 2 Axes>"
            ]
          },
          "metadata": {
            "needs_background": "light"
          },
          "output_type": "display_data"
        }
      ],
      "source": [
        "cm=confusion_matrix(y_test,prediction)\n",
        "sns.heatmap(cm, annot=True,fmt=\".1f\",linewidths=3,square=True, cmap='PuBu',color=\"#cd1076\")\n",
        "plt.ylabel('actual label')\n",
        "plt.xlabel('predicted label')\n",
        "plt.title(\"Gradient Boosting\", fontsize=20)\n",
        "plt.show()"
      ]
    },
    {
      "cell_type": "code",
      "execution_count": null,
      "metadata": {
        "colab": {
          "base_uri": "https://localhost:8080/",
          "height": 295
        },
        "id": "Y1IfBUadeFIV",
        "outputId": "a2514dda-2e6e-46b5-d814-8c99b2ccda0c"
      },
      "outputs": [
        {
          "data": {
            "image/png": "[encoded data removed]",
            "text/plain": [
              "<Figure size 432x288 with 1 Axes>"
            ]
          },
          "metadata": {
            "needs_background": "light"
          },
          "output_type": "display_data"
        }
      ],
      "source": [
        "fpr, tpr, _ = roc_curve(y_test,  prediction)\n",
        "plt.plot(fpr,tpr,label=\"AUC=\"+str(auc_roc_score))\n",
        "plt.ylabel('True Positive Rate')\n",
        "plt.xlabel('False Positive Rate')\n",
        "plt.title('ROC Curve')\n",
        "plt.legend(loc=4)\n",
        "plt.show()"
      ]
    },
    {
      "cell_type": "code",
      "execution_count": null,
      "metadata": {
        "colab": {
          "base_uri": "https://localhost:8080/"
        },
        "id": "Yo-U1fYINPWI",
        "outputId": "55fb972e-cc7f-4253-f44c-92a4d2799c35"
      },
      "outputs": [
        {
          "name": "stdout",
          "output_type": "stream",
          "text": [
            "The time of execution of above program is : 1.8002986907958984 ms\n",
            "Xgboost Classifier accuracy: 72.50335871025526\n",
            "F1-Score:  67.5475687103594\n",
            "Precision:  76.52694610778443\n",
            "Recall:  60.45411542100284\n",
            "Sensitivity:  60.45411542100284\n",
            "Specificity:  83.33333333333334\n",
            "AUC (ROC):  71.8937243771681\n",
            "Error Rate:  27.496641289744744\n",
            "TPR:  60.45411542100284\n",
            "FPR:  16.666666666666657\n"
          ]
        }
      ],
      "source": [
        "#Xgboost Classifier\n",
        "\n",
        "# record start time\n",
        "start = time.time()\n",
        " \n",
        "# define a sample code segment\n",
        "a = 0\n",
        "for i in range(1000):\n",
        "    a += (i**100)\n",
        " \n",
        "# record end time\n",
        "end = time.time()\n",
        " \n",
        "# print the difference between start\n",
        "# and end time in milli. secs\n",
        "print(\"The time of execution of above program is :\",\n",
        "      (end-start) * 10**3, \"ms\")\n",
        "\n",
        "from xgboost import XGBClassifier\n",
        "xgb =XGBClassifier(n_estimators=100, learning_rate=0.08, gamma=0, subsample=0.78,\n",
        "                           colsample_bytree=1, max_depth=7)\n",
        "xgb.fit(X_train,y_train)\n",
        "prediction = xgb.predict(X_test)\n",
        "\n",
        "cr=classification_report(y_test,prediction, output_dict=True)\n",
        "acc = accuracy_score(y_test,prediction)*100\n",
        "print(\"Xgboost Classifier accuracy:\",acc)\n",
        "accuracies['Xgboost Classifier']=acc\n",
        "\n",
        "f1=f1_score(y_test,prediction)*100\n",
        "print(\"F1-Score: \",f1)\n",
        "f1scores['Xgboost Classifier']=f1\n",
        "\n",
        "precision = precision_score(y_test, prediction)*100\n",
        "print('Precision: ',precision)\n",
        "precisions['Xgboost Classifier']=precision\n",
        "\n",
        "recall = recall_score(y_test, prediction)*100\n",
        "print('Recall: ',recall)\n",
        "recalls['Xgboost Classifier']=recall\n",
        "\n",
        "sensitivity=cr['1']['recall']*100\n",
        "print('Sensitivity: ',sensitivity)\n",
        "sensitivities['Xgboost Classifier']=sensitivity\n",
        "\n",
        "specificity=cr['0']['recall']*100\n",
        "print('Specificity: ', specificity)\n",
        "specificities['Xgboost Classifier']=specificity\n",
        "\n",
        "auc_roc_score = roc_auc_score(y_test, prediction)*100\n",
        "print('AUC (ROC): ', auc_roc_score)\n",
        "auc_roc_scores['Xgboost Classifier']=auc_roc_score\n",
        "\n",
        "err=100-acc\n",
        "print(\"Error Rate: \",err)\n",
        "\n",
        "tpr=sensitivity\n",
        "print('TPR: ', tpr)\n",
        "\n",
        "fpr=100-specificity\n",
        "print('FPR: ', fpr)"
      ]
    },
    {
      "cell_type": "code",
      "execution_count": null,
      "metadata": {
        "colab": {
          "base_uri": "https://localhost:8080/",
          "height": 300
        },
        "id": "UbAdEDNmOlwu",
        "outputId": "083da210-4970-4060-c5c1-374535510ba2"
      },
      "outputs": [
        {
          "data": {
            "image/png": "[encoded data removed]",
            "text/plain": [
              "<Figure size 432x288 with 2 Axes>"
            ]
          },
          "metadata": {
            "needs_background": "light"
          },
          "output_type": "display_data"
        }
      ],
      "source": [
        "cm=confusion_matrix(y_test,prediction)\n",
        "sns.heatmap(cm, annot=True,fmt=\".1f\",linewidths=3,square=True, cmap='PuBu',color=\"#cd1076\")\n",
        "plt.ylabel('actual label')\n",
        "plt.xlabel('predicted label')\n",
        "plt.title(\"Xgboost Classifier\", fontsize=20)\n",
        "plt.show()"
      ]
    },
    {
      "cell_type": "code",
      "execution_count": null,
      "metadata": {
        "colab": {
          "base_uri": "https://localhost:8080/",
          "height": 295
        },
        "id": "X3GajyuseHBV",
        "outputId": "8275cd99-7b73-415f-cdc9-d853fb0f7703"
      },
      "outputs": [
        {
          "data": {
            "image/png": "[encoded data removed]",
            "text/plain": [
              "<Figure size 432x288 with 1 Axes>"
            ]
          },
          "metadata": {
            "needs_background": "light"
          },
          "output_type": "display_data"
        }
      ],
      "source": [
        "fpr, tpr, _ = roc_curve(y_test,  prediction)\n",
        "plt.plot(fpr,tpr,label=\"AUC=\"+str(auc_roc_score))\n",
        "plt.ylabel('True Positive Rate')\n",
        "plt.xlabel('False Positive Rate')\n",
        "plt.title('ROC Curve')\n",
        "plt.legend(loc=4)\n",
        "plt.show()"
      ]
    },
    {
      "cell_type": "code",
      "execution_count": null,
      "metadata": {
        "colab": {
          "base_uri": "https://localhost:8080/"
        },
        "id": "WvreANVgN2U6",
        "outputId": "eec8ebb2-b96f-4de2-8010-c0d7c123b9eb"
      },
      "outputs": [
        {
          "name": "stdout",
          "output_type": "stream",
          "text": [
            "The time of execution of above program is : 2.346515655517578 ms\n",
            "Linear SVM accuracy: 54.59023734885804\n",
            "F1-Score:  11.518324607329843\n",
            "Precision:  74.15730337078652\n",
            "Recall:  6.244087038789026\n",
            "Sensitivity:  6.244087038789026\n",
            "Specificity:  98.04421768707483\n",
            "AUC (ROC):  52.144152362931926\n",
            "Error Rate:  45.40976265114196\n",
            "TPR:  6.244087038789026\n",
            "FPR:  1.955782312925166\n"
          ]
        }
      ],
      "source": [
        "#Linear SVM\n",
        "\n",
        "# record start time\n",
        "start = time.time()\n",
        " \n",
        "# define a sample code segment\n",
        "a = 0\n",
        "for i in range(1000):\n",
        "    a += (i**100)\n",
        " \n",
        "# record end time\n",
        "end = time.time()\n",
        " \n",
        "# print the difference between start\n",
        "# and end time in milli. secs\n",
        "print(\"The time of execution of above program is :\",\n",
        "      (end-start) * 10**3, \"ms\")\n",
        "\n",
        "\n",
        "from sklearn.svm import LinearSVC\n",
        "svc= LinearSVC()\n",
        "svc.fit(X_train,y_train)\n",
        "prediction = svc.predict(X_test)\n",
        "\n",
        "cr=classification_report(y_test,prediction, output_dict=True)\n",
        "acc = accuracy_score(y_test,prediction)*100\n",
        "print(\"Linear SVM accuracy:\",acc)\n",
        "accuracies['Linear SVM']=acc\n",
        "\n",
        "f1=f1_score(y_test,prediction)*100\n",
        "print(\"F1-Score: \",f1)\n",
        "f1scores['Linear SVM']=f1\n",
        "\n",
        "precision = precision_score(y_test, prediction)*100\n",
        "print('Precision: ',precision)\n",
        "precisions['Linear SVM']=precision\n",
        "\n",
        "recall = recall_score(y_test, prediction)*100\n",
        "print('Recall: ',recall)\n",
        "recalls['Linear SVM']=recall\n",
        "\n",
        "sensitivity=cr['1']['recall']*100\n",
        "print('Sensitivity: ',sensitivity)\n",
        "sensitivities['Linear SVM']=sensitivity\n",
        "\n",
        "specificity=cr['0']['recall']*100\n",
        "print('Specificity: ', specificity)\n",
        "specificities['Linear SVM']=specificity\n",
        "\n",
        "auc_roc_score = roc_auc_score(y_test, prediction)*100\n",
        "print('AUC (ROC): ', auc_roc_score)\n",
        "auc_roc_scores['Linear SVM']=auc_roc_score\n",
        "\n",
        "err=100-acc\n",
        "print(\"Error Rate: \",err)\n",
        "\n",
        "tpr=sensitivity\n",
        "print('TPR: ', tpr)\n",
        "\n",
        "fpr=100-specificity\n",
        "print('FPR: ', fpr)"
      ]
    },
    {
      "cell_type": "code",
      "execution_count": null,
      "metadata": {
        "colab": {
          "base_uri": "https://localhost:8080/",
          "height": 300
        },
        "id": "txvvCh-pS1Af",
        "outputId": "6fd380f7-56b5-4691-ecdb-592626c9f0d3"
      },
      "outputs": [
        {
          "data": {
            "image/png": "[encoded data removed]",
            "text/plain": [
              "<Figure size 432x288 with 2 Axes>"
            ]
          },
          "metadata": {
            "needs_background": "light"
          },
          "output_type": "display_data"
        }
      ],
      "source": [
        "cm=confusion_matrix(y_test,prediction)\n",
        "sns.heatmap(cm, annot=True,fmt=\".1f\",linewidths=3,square=True, cmap='PuBu',color=\"#cd1076\")\n",
        "plt.ylabel('actual label')\n",
        "plt.xlabel('predicted label')\n",
        "plt.title(\"Linear SVM\", fontsize=20)\n",
        "plt.show()"
      ]
    },
    {
      "cell_type": "code",
      "execution_count": null,
      "metadata": {
        "colab": {
          "base_uri": "https://localhost:8080/",
          "height": 295
        },
        "id": "KDlH7_R4eH-G",
        "outputId": "5e18827a-6ac0-4fa4-a62f-7b023af08d0a"
      },
      "outputs": [
        {
          "data": {
            "image/png": "[encoded data removed]",
            "text/plain": [
              "<Figure size 432x288 with 1 Axes>"
            ]
          },
          "metadata": {
            "needs_background": "light"
          },
          "output_type": "display_data"
        }
      ],
      "source": [
        "fpr, tpr, _ = roc_curve(y_test,  prediction)\n",
        "plt.plot(fpr,tpr,label=\"AUC=\"+str(auc_roc_score))\n",
        "plt.ylabel('True Positive Rate')\n",
        "plt.xlabel('False Positive Rate')\n",
        "plt.title('ROC Curve')\n",
        "plt.legend(loc=4)\n",
        "plt.show()"
      ]
    },
    {
      "cell_type": "code",
      "execution_count": null,
      "metadata": {
        "colab": {
          "base_uri": "https://localhost:8080/"
        },
        "id": "89r8lgjkSbRU",
        "outputId": "4631f3f6-eb67-411b-dc5e-2ea698d5be99"
      },
      "outputs": [
        {
          "name": "stdout",
          "output_type": "stream",
          "text": [
            "The time of execution of above program is : 2.009153366088867 ms\n",
            "RBF SVM accuracy: 56.47111509180475\n",
            "F1-Score:  44.457142857142856\n",
            "Precision:  56.132756132756136\n",
            "Recall:  36.80227057710501\n",
            "Sensitivity:  36.80227057710501\n",
            "Specificity:  74.14965986394559\n",
            "AUC (ROC):  55.47596522052529\n",
            "Error Rate:  43.52888490819525\n",
            "TPR:  36.80227057710501\n",
            "FPR:  25.850340136054413\n"
          ]
        }
      ],
      "source": [
        "#RBF SVM\n",
        "\n",
        "# record start time\n",
        "start = time.time()\n",
        " \n",
        "# define a sample code segment\n",
        "a = 0\n",
        "for i in range(1000):\n",
        "    a += (i**100)\n",
        " \n",
        "# record end time\n",
        "end = time.time()\n",
        " \n",
        "# print the difference between start\n",
        "# and end time in milli. secs\n",
        "print(\"The time of execution of above program is :\",\n",
        "      (end-start) * 10**3, \"ms\")\n",
        "\n",
        "\n",
        "from sklearn.svm import SVC\n",
        "svc= SVC(kernel = 'rbf')\n",
        "svc.fit(X_train,y_train)\n",
        "prediction = svc.predict(X_test)\n",
        "\n",
        "cr=classification_report(y_test,prediction, output_dict=True)\n",
        "acc = accuracy_score(y_test,prediction)*100\n",
        "print(\"RBF SVM accuracy:\",acc)\n",
        "accuracies['RBF SVM']=acc\n",
        "\n",
        "f1=f1_score(y_test,prediction)*100\n",
        "print(\"F1-Score: \",f1)\n",
        "f1scores['RBF SVM']=f1\n",
        "\n",
        "precision = precision_score(y_test, prediction)*100\n",
        "print('Precision: ',precision)\n",
        "precisions['RBF SVM']=precision\n",
        "\n",
        "recall = recall_score(y_test, prediction)*100\n",
        "print('Recall: ',recall)\n",
        "recalls['RBF SVM']=recall\n",
        "\n",
        "sensitivity=cr['1']['recall']*100\n",
        "print('Sensitivity: ',sensitivity)\n",
        "sensitivities['RBF SVM']=sensitivity\n",
        "\n",
        "specificity=cr['0']['recall']*100\n",
        "print('Specificity: ', specificity)\n",
        "specificities['RBF SVM']=specificity\n",
        "\n",
        "auc_roc_score = roc_auc_score(y_test, prediction)*100\n",
        "print('AUC (ROC): ', auc_roc_score)\n",
        "auc_roc_scores['RBF SVM']=auc_roc_score\n",
        "\n",
        "err=100-acc\n",
        "print(\"Error Rate: \",err)\n",
        "\n",
        "tpr=sensitivity\n",
        "print('TPR: ', tpr)\n",
        "\n",
        "fpr=100-specificity\n",
        "print('FPR: ', fpr)"
      ]
    },
    {
      "cell_type": "code",
      "execution_count": null,
      "metadata": {
        "colab": {
          "base_uri": "https://localhost:8080/",
          "height": 300
        },
        "id": "A_u0G1VlS2m6",
        "outputId": "6ac9a295-2fb2-4545-9b98-29d05fa4fd2b"
      },
      "outputs": [
        {
          "data": {
            "image/png": "[encoded data removed]",
            "text/plain": [
              "<Figure size 432x288 with 2 Axes>"
            ]
          },
          "metadata": {
            "needs_background": "light"
          },
          "output_type": "display_data"
        }
      ],
      "source": [
        "cm=confusion_matrix(y_test,prediction)\n",
        "sns.heatmap(cm, annot=True,fmt=\".1f\",linewidths=3,square=True, cmap='PuBu',color=\"#cd1076\")\n",
        "plt.ylabel('actual label')\n",
        "plt.xlabel('predicted label')\n",
        "plt.title(\"RBF SVM\", fontsize=20)\n",
        "plt.show()"
      ]
    },
    {
      "cell_type": "code",
      "execution_count": null,
      "metadata": {
        "colab": {
          "base_uri": "https://localhost:8080/",
          "height": 295
        },
        "id": "QGerRWxmeJ_R",
        "outputId": "0579840c-1490-4deb-d19f-52ca87fd3d76"
      },
      "outputs": [
        {
          "data": {
            "image/png": "[encoded data removed]",
            "text/plain": [
              "<Figure size 432x288 with 1 Axes>"
            ]
          },
          "metadata": {
            "needs_background": "light"
          },
          "output_type": "display_data"
        }
      ],
      "source": [
        "fpr, tpr, _ = roc_curve(y_test,  prediction)\n",
        "plt.plot(fpr,tpr,label=\"AUC=\"+str(auc_roc_score))\n",
        "plt.ylabel('True Positive Rate')\n",
        "plt.xlabel('False Positive Rate')\n",
        "plt.title('ROC Curve')\n",
        "plt.legend(loc=4)\n",
        "plt.show()"
      ]
    },
    {
      "cell_type": "code",
      "execution_count": null,
      "metadata": {
        "colab": {
          "base_uri": "https://localhost:8080/"
        },
        "id": "mUcg0sNzTgoC",
        "outputId": "370923da-1ec7-41b6-b328-a7c30ae13351"
      },
      "outputs": [
        {
          "name": "stdout",
          "output_type": "stream",
          "text": [
            "The time of execution of above program is : 1.5513896942138672 ms\n",
            "ADA Boost accuracy: 71.69726824899239\n",
            "F1-Score:  66.77181913774974\n",
            "Precision:  75.14792899408283\n",
            "Recall:  60.07568590350048\n",
            "Sensitivity:  60.07568590350048\n",
            "Specificity:  82.14285714285714\n",
            "AUC (ROC):  71.1092715231788\n",
            "Error Rate:  28.302731751007613\n",
            "TPR:  60.07568590350048\n",
            "FPR:  17.85714285714286\n"
          ]
        }
      ],
      "source": [
        "#Ada Boost\n",
        "\n",
        "# record start time\n",
        "start = time.time()\n",
        " \n",
        "# define a sample code segment\n",
        "a = 0\n",
        "for i in range(1000):\n",
        "    a += (i**100)\n",
        " \n",
        "# record end time\n",
        "end = time.time()\n",
        " \n",
        "# print the difference between start\n",
        "# and end time in milli. secs\n",
        "print(\"The time of execution of above program is :\",\n",
        "      (end-start) * 10**3, \"ms\")\n",
        "\n",
        "\n",
        "from sklearn.ensemble import AdaBoostClassifier\n",
        "ada=AdaBoostClassifier()\n",
        "ada.fit(X_train,y_train)\n",
        "prediction = ada.predict(X_test)\n",
        "\n",
        "\n",
        "cr=classification_report(y_test,prediction, output_dict=True)\n",
        "acc = accuracy_score(y_test,prediction)*100\n",
        "print(\"ADA Boost accuracy:\",acc)\n",
        "accuracies['ADA Boost']=acc\n",
        "\n",
        "f1=f1_score(y_test,prediction)*100\n",
        "print(\"F1-Score: \",f1)\n",
        "f1scores['ADA Boost']=f1\n",
        "\n",
        "precision = precision_score(y_test, prediction)*100\n",
        "print('Precision: ',precision)\n",
        "precisions['ADA Boost']=precision\n",
        "\n",
        "recall = recall_score(y_test, prediction)*100\n",
        "print('Recall: ',recall)\n",
        "recalls['ADA Boost']=recall\n",
        "\n",
        "sensitivity=cr['1']['recall']*100\n",
        "print('Sensitivity: ',sensitivity)\n",
        "sensitivities['ADA Boost']=sensitivity\n",
        "\n",
        "specificity=cr['0']['recall']*100\n",
        "print('Specificity: ', specificity)\n",
        "specificities['ADA Boost']=specificity\n",
        "\n",
        "auc_roc_score = roc_auc_score(y_test, prediction)*100\n",
        "print('AUC (ROC): ', auc_roc_score)\n",
        "auc_roc_scores['ADA Boost']=auc_roc_score\n",
        "\n",
        "err=100-acc\n",
        "print(\"Error Rate: \",err)\n",
        "\n",
        "tpr=sensitivity\n",
        "print('TPR: ', tpr)\n",
        "\n",
        "fpr=100-specificity\n",
        "print('FPR: ', fpr)"
      ]
    },
    {
      "cell_type": "code",
      "execution_count": null,
      "metadata": {
        "colab": {
          "base_uri": "https://localhost:8080/",
          "height": 300
        },
        "id": "O7NOpEpfULcF",
        "outputId": "c25f52a0-0ce0-4eef-806b-3ac0796956aa"
      },
      "outputs": [
        {
          "data": {
            "image/png": "[encoded data removed]",
            "text/plain": [
              "<Figure size 432x288 with 2 Axes>"
            ]
          },
          "metadata": {
            "needs_background": "light"
          },
          "output_type": "display_data"
        }
      ],
      "source": [
        "cm=confusion_matrix(y_test,prediction)\n",
        "sns.heatmap(cm, annot=True,fmt=\".1f\",linewidths=3,square=True, cmap='PuBu',color=\"#cd1076\")\n",
        "plt.ylabel('actual label')\n",
        "plt.xlabel('predicted label')\n",
        "plt.title(\"Ada boost\", fontsize=20)\n",
        "plt.show()"
      ]
    },
    {
      "cell_type": "code",
      "execution_count": null,
      "metadata": {
        "colab": {
          "base_uri": "https://localhost:8080/",
          "height": 295
        },
        "id": "QXqPaCeyeLGW",
        "outputId": "5cc7b4c8-8f53-48a3-abb1-ed6fbce865d3"
      },
      "outputs": [
        {
          "data": {
            "image/png": "[encoded data removed]",
            "text/plain": [
              "<Figure size 432x288 with 1 Axes>"
            ]
          },
          "metadata": {
            "needs_background": "light"
          },
          "output_type": "display_data"
        }
      ],
      "source": [
        "fpr, tpr, _ = roc_curve(y_test,  prediction)\n",
        "plt.plot(fpr,tpr,label=\"AUC=\"+str(auc_roc_score))\n",
        "plt.ylabel('True Positive Rate')\n",
        "plt.xlabel('False Positive Rate')\n",
        "plt.title('ROC Curve')\n",
        "plt.legend(loc=4)\n",
        "plt.show()"
      ]
    },
    {
      "cell_type": "code",
      "execution_count": null,
      "metadata": {
        "colab": {
          "base_uri": "https://localhost:8080/"
        },
        "id": "8NBz_YgjUnXw",
        "outputId": "27b18357-9a49-43c0-9ff5-8d0330e160b0"
      },
      "outputs": [
        {
          "name": "stdout",
          "output_type": "stream",
          "text": [
            "The time of execution of above program is : 1.7328262329101562 ms\n",
            "MLP Classifier accuracy: 64.84549932825794\n",
            "F1-Score:  49.84025559105431\n",
            "Precision:  76.77165354330708\n",
            "Recall:  36.89687795648061\n",
            "Sensitivity:  36.89687795648061\n",
            "Specificity:  89.96598639455783\n",
            "AUC (ROC):  63.431432175519205\n",
            "Error Rate:  35.154500671742056\n",
            "TPR:  36.89687795648061\n",
            "FPR:  10.03401360544217\n"
          ]
        }
      ],
      "source": [
        "#MLP Classifier\n",
        "\n",
        "# record start time\n",
        "start = time.time()\n",
        " \n",
        "# define a sample code segment\n",
        "a = 0\n",
        "for i in range(1000):\n",
        "    a += (i**100)\n",
        " \n",
        "# record end time\n",
        "end = time.time()\n",
        " \n",
        "# print the difference between start\n",
        "# and end time in milli. secs\n",
        "print(\"The time of execution of above program is :\",\n",
        "      (end-start) * 10**3, \"ms\")\n",
        "\n",
        "\n",
        "from sklearn.neural_network import MLPClassifier\n",
        "mlp=MLPClassifier()\n",
        "mlp.fit(X_train,y_train)\n",
        "prediction = mlp.predict(X_test)\n",
        "\n",
        "\n",
        "cr=classification_report(y_test,prediction, output_dict=True)\n",
        "acc = accuracy_score(y_test,prediction)*100\n",
        "print(\"MLP Classifier accuracy:\",acc)\n",
        "accuracies['MLP Classifier']=acc\n",
        "\n",
        "f1=f1_score(y_test,prediction)*100\n",
        "print(\"F1-Score: \",f1)\n",
        "f1scores['MLP Classifier']=f1\n",
        "\n",
        "precision = precision_score(y_test, prediction)*100\n",
        "print('Precision: ',precision)\n",
        "precisions['MLP Classifier']=precision\n",
        "\n",
        "recall = recall_score(y_test, prediction)*100\n",
        "print('Recall: ',recall)\n",
        "recalls['MLP Classifier']=recall\n",
        "\n",
        "sensitivity=cr['1']['recall']*100\n",
        "print('Sensitivity: ',sensitivity)\n",
        "sensitivities['MLP Classifier']=sensitivity\n",
        "\n",
        "specificity=cr['0']['recall']*100\n",
        "print('Specificity: ', specificity)\n",
        "specificities['MLP Classifier']=specificity\n",
        "\n",
        "auc_roc_score = roc_auc_score(y_test, prediction)*100\n",
        "print('AUC (ROC): ', auc_roc_score)\n",
        "auc_roc_scores['MLP Classifier']=auc_roc_score\n",
        "\n",
        "err=100-acc\n",
        "print(\"Error Rate: \",err)\n",
        "\n",
        "tpr=sensitivity\n",
        "print('TPR: ', tpr)\n",
        "\n",
        "fpr=100-specificity\n",
        "print('FPR: ', fpr)"
      ]
    },
    {
      "cell_type": "code",
      "execution_count": null,
      "metadata": {
        "colab": {
          "base_uri": "https://localhost:8080/",
          "height": 300
        },
        "id": "WMrXdrP0U-wH",
        "outputId": "35b1c5bf-a215-4f47-9a26-aba5874b7ac5"
      },
      "outputs": [
        {
          "data": {
            "image/png": "[encoded data removed]",
            "text/plain": [
              "<Figure size 432x288 with 2 Axes>"
            ]
          },
          "metadata": {
            "needs_background": "light"
          },
          "output_type": "display_data"
        }
      ],
      "source": [
        "cm=confusion_matrix(y_test,prediction)\n",
        "sns.heatmap(cm, annot=True,fmt=\".1f\",linewidths=3,square=True, cmap='PuBu',color=\"#cd1076\")\n",
        "plt.ylabel('actual label')\n",
        "plt.xlabel('predicted label')\n",
        "plt.title(\"MLP Classifier\", fontsize=20)\n",
        "plt.show()"
      ]
    },
    {
      "cell_type": "code",
      "execution_count": null,
      "metadata": {
        "colab": {
          "base_uri": "https://localhost:8080/",
          "height": 295
        },
        "id": "gfG_pJzoeL6h",
        "outputId": "da8a98e1-8be0-4e49-d053-651829970d5e"
      },
      "outputs": [
        {
          "data": {
            "image/png": "[encoded data removed]",
            "text/plain": [
              "<Figure size 432x288 with 1 Axes>"
            ]
          },
          "metadata": {
            "needs_background": "light"
          },
          "output_type": "display_data"
        }
      ],
      "source": [
        "fpr, tpr, _ = roc_curve(y_test,  prediction)\n",
        "plt.plot(fpr,tpr,label=\"AUC=\"+str(auc_roc_score))\n",
        "plt.ylabel('True Positive Rate')\n",
        "plt.xlabel('False Positive Rate')\n",
        "plt.title('ROC Curve')\n",
        "plt.legend(loc=4)\n",
        "plt.show()"
      ]
    },
    {
      "cell_type": "code",
      "execution_count": null,
      "metadata": {
        "colab": {
          "base_uri": "https://localhost:8080/"
        },
        "id": "banLcAuHVFAf",
        "outputId": "669edc16-68b2-4ac7-928f-58ac7209c325"
      },
      "outputs": [
        {
          "name": "stdout",
          "output_type": "stream",
          "text": [
            "The time of execution of above program is : 2.0856857299804688 ms\n",
            "Quadratic Discriminant accuracy: 64.26332288401254\n",
            "F1-Score:  44.19580419580419\n",
            "Precision:  84.71849865951742\n",
            "Recall:  29.89593188268685\n",
            "Sensitivity:  29.89593188268685\n",
            "Specificity:  95.1530612244898\n",
            "AUC (ROC):  62.52449655358833\n",
            "Error Rate:  35.73667711598746\n",
            "TPR:  29.89593188268685\n",
            "FPR:  4.846938775510196\n"
          ]
        }
      ],
      "source": [
        "#Quadratic Discriminant Analysis\n",
        "\n",
        "# record start time\n",
        "start = time.time()\n",
        " \n",
        "# define a sample code segment\n",
        "a = 0\n",
        "for i in range(1000):\n",
        "    a += (i**100)\n",
        " \n",
        "# record end time\n",
        "end = time.time()\n",
        " \n",
        "# print the difference between start\n",
        "# and end time in milli. secs\n",
        "print(\"The time of execution of above program is :\",\n",
        "      (end-start) * 10**3, \"ms\")\n",
        "\n",
        "\n",
        "from sklearn.discriminant_analysis import QuadraticDiscriminantAnalysis\n",
        "qda=QuadraticDiscriminantAnalysis()\n",
        "qda.fit(X_train,y_train)\n",
        "prediction = qda.predict(X_test)\n",
        "\n",
        "\n",
        "cr=classification_report(y_test,prediction, output_dict=True)\n",
        "acc = accuracy_score(y_test,prediction)*100\n",
        "print(\"Quadratic Discriminant accuracy:\",acc)\n",
        "accuracies['Quadratic Discriminant']=acc\n",
        "\n",
        "f1=f1_score(y_test,prediction)*100\n",
        "print(\"F1-Score: \",f1)\n",
        "f1scores['Quadratic Discriminant']=f1\n",
        "\n",
        "precision = precision_score(y_test, prediction)*100\n",
        "print('Precision: ',precision)\n",
        "precisions['Quadratic Discriminant']=precision\n",
        "\n",
        "recall = recall_score(y_test, prediction)*100\n",
        "print('Recall: ',recall)\n",
        "recalls['Quadratic Discriminant']=recall\n",
        "\n",
        "sensitivity=cr['1']['recall']*100\n",
        "print('Sensitivity: ',sensitivity)\n",
        "sensitivities['Quadratic Discriminant']=sensitivity\n",
        "\n",
        "specificity=cr['0']['recall']*100\n",
        "print('Specificity: ', specificity)\n",
        "specificities['Quadratic Discriminant']=specificity\n",
        "\n",
        "auc_roc_score = roc_auc_score(y_test, prediction)*100\n",
        "print('AUC (ROC): ', auc_roc_score)\n",
        "auc_roc_scores['Quadratic Discriminant']=auc_roc_score\n",
        "\n",
        "err=100-acc\n",
        "print(\"Error Rate: \",err)\n",
        "\n",
        "tpr=sensitivity\n",
        "print('TPR: ', tpr)\n",
        "\n",
        "fpr=100-specificity\n",
        "print('FPR: ', fpr)"
      ]
    },
    {
      "cell_type": "code",
      "execution_count": null,
      "metadata": {
        "colab": {
          "base_uri": "https://localhost:8080/",
          "height": 300
        },
        "id": "T1DgBnBBVMff",
        "outputId": "7a58dca7-23b0-4b3f-e643-9935fb28e05e"
      },
      "outputs": [
        {
          "data": {
            "image/png": "[encoded data removed]",
            "text/plain": [
              "<Figure size 432x288 with 2 Axes>"
            ]
          },
          "metadata": {
            "needs_background": "light"
          },
          "output_type": "display_data"
        }
      ],
      "source": [
        "cm=confusion_matrix(y_test,prediction)\n",
        "sns.heatmap(cm, annot=True,fmt=\".1f\",linewidths=3,square=True, cmap='PuBu',color=\"#cd1076\")\n",
        "plt.ylabel('actual label')\n",
        "plt.xlabel('predicted label')\n",
        "plt.title(\"Quadratic Discriminant Analysis\", fontsize=20)\n",
        "plt.show()"
      ]
    },
    {
      "cell_type": "code",
      "execution_count": null,
      "metadata": {
        "colab": {
          "base_uri": "https://localhost:8080/",
          "height": 295
        },
        "id": "nIjl-UN0eMvQ",
        "outputId": "41c95f16-3ab7-4b4b-8d5c-8c7a00c3e7ac"
      },
      "outputs": [
        {
          "data": {
            "image/png": "[encoded data removed]",
            "text/plain": [
              "<Figure size 432x288 with 1 Axes>"
            ]
          },
          "metadata": {
            "needs_background": "light"
          },
          "output_type": "display_data"
        }
      ],
      "source": [
        "fpr, tpr, _ = roc_curve(y_test,  prediction)\n",
        "plt.plot(fpr,tpr,label=\"AUC=\"+str(auc_roc_score))\n",
        "plt.ylabel('True Positive Rate')\n",
        "plt.xlabel('False Positive Rate')\n",
        "plt.title('ROC Curve')\n",
        "plt.legend(loc=4)\n",
        "plt.show()"
      ]
    },
    {
      "cell_type": "code",
      "execution_count": null,
      "metadata": {
        "colab": {
          "base_uri": "https://localhost:8080/"
        },
        "id": "5wtJIr9lVfRi",
        "outputId": "de4f8998-d409-459d-f62e-fcd558a23d89"
      },
      "outputs": [
        {
          "name": "stdout",
          "output_type": "stream",
          "text": [
            "The time of execution of above program is : 1.9519329071044922 ms\n",
            "Light GBM accuracy: 72.50335871025526\n",
            "F1-Score:  67.34042553191489\n",
            "Precision:  76.91373025516404\n",
            "Recall:  59.88647114474929\n",
            "Sensitivity:  59.88647114474929\n",
            "Specificity:  83.84353741496598\n",
            "AUC (ROC):  71.86500427985763\n",
            "Error Rate:  27.496641289744744\n",
            "TPR:  59.88647114474929\n",
            "FPR:  16.15646258503402\n"
          ]
        }
      ],
      "source": [
        "#Light Gradient Boosting Machine\n",
        "\n",
        "# record start time\n",
        "start = time.time()\n",
        " \n",
        "# define a sample code segment\n",
        "a = 0\n",
        "for i in range(1000):\n",
        "    a += (i**100)\n",
        " \n",
        "# record end time\n",
        "end = time.time()\n",
        " \n",
        "# print the difference between start\n",
        "# and end time in milli. secs\n",
        "print(\"The time of execution of above program is :\",\n",
        "      (end-start) * 10**3, \"ms\")\n",
        "\n",
        "from lightgbm import LGBMClassifier\n",
        "lgbm=LGBMClassifier()\n",
        "lgbm.fit(X_train,y_train)\n",
        "prediction = lgbm.predict(X_test)\n",
        "\n",
        "\n",
        "cr=classification_report(y_test,prediction, output_dict=True)\n",
        "acc = accuracy_score(y_test,prediction)*100\n",
        "print(\"Light GBM accuracy:\",acc)\n",
        "accuracies['Light GBM']=acc\n",
        "\n",
        "f1=f1_score(y_test,prediction)*100\n",
        "print(\"F1-Score: \",f1)\n",
        "f1scores['Light GBM']=f1\n",
        "\n",
        "precision = precision_score(y_test, prediction)*100\n",
        "print('Precision: ',precision)\n",
        "precisions['Light GBM']=precision\n",
        "\n",
        "recall = recall_score(y_test, prediction)*100\n",
        "print('Recall: ',recall)\n",
        "recalls['Light GBM']=recall\n",
        "\n",
        "sensitivity=cr['1']['recall']*100\n",
        "print('Sensitivity: ',sensitivity)\n",
        "sensitivities['Light GBM']=sensitivity\n",
        "\n",
        "specificity=cr['0']['recall']*100\n",
        "print('Specificity: ', specificity)\n",
        "specificities['Light GBM']=specificity\n",
        "\n",
        "auc_roc_score = roc_auc_score(y_test, prediction)*100\n",
        "print('AUC (ROC): ', auc_roc_score)\n",
        "auc_roc_scores['Light GBM']=auc_roc_score\n",
        "\n",
        "err=100-acc\n",
        "print(\"Error Rate: \",err)\n",
        "\n",
        "tpr=sensitivity\n",
        "print('TPR: ', tpr)\n",
        "\n",
        "fpr=100-specificity\n",
        "print('FPR: ', fpr)"
      ]
    },
    {
      "cell_type": "code",
      "execution_count": null,
      "metadata": {
        "colab": {
          "base_uri": "https://localhost:8080/",
          "height": 300
        },
        "id": "5wjrKmoUWPL4",
        "outputId": "e3f6f2c7-f5dc-4498-ce1b-aaa984895c76"
      },
      "outputs": [
        {
          "data": {
            "image/png": "[encoded data removed]",
            "text/plain": [
              "<Figure size 432x288 with 2 Axes>"
            ]
          },
          "metadata": {
            "needs_background": "light"
          },
          "output_type": "display_data"
        }
      ],
      "source": [
        "cm=confusion_matrix(y_test,prediction)\n",
        "sns.heatmap(cm, annot=True,fmt=\".1f\",linewidths=3,square=True, cmap='PuBu',color=\"#cd1076\")\n",
        "plt.ylabel('actual label')\n",
        "plt.xlabel('predicted label')\n",
        "plt.title(\"Light GBM\", fontsize=20)\n",
        "plt.show()"
      ]
    },
    {
      "cell_type": "code",
      "execution_count": null,
      "metadata": {
        "colab": {
          "base_uri": "https://localhost:8080/",
          "height": 295
        },
        "id": "7DaGfxpSeORf",
        "outputId": "bef56d64-870c-4f5b-b769-8c03478f635a"
      },
      "outputs": [
        {
          "data": {
            "image/png": "[encoded data removed]",
            "text/plain": [
              "<Figure size 432x288 with 1 Axes>"
            ]
          },
          "metadata": {
            "needs_background": "light"
          },
          "output_type": "display_data"
        }
      ],
      "source": [
        "fpr, tpr, _ = roc_curve(y_test,  prediction)\n",
        "plt.plot(fpr,tpr,label=\"AUC=\"+str(auc_roc_score))\n",
        "plt.ylabel('True Positive Rate')\n",
        "plt.xlabel('False Positive Rate')\n",
        "plt.title('ROC Curve')\n",
        "plt.legend(loc=4)\n",
        "plt.show()"
      ]
    },
    {
      "cell_type": "code",
      "execution_count": null,
      "metadata": {
        "colab": {
          "base_uri": "https://localhost:8080/"
        },
        "id": "nU2oKsCmWUX8",
        "outputId": "935aa97d-3ade-4595-bf5d-2e7e5760a412"
      },
      "outputs": [
        {
          "name": "stdout",
          "output_type": "stream",
          "text": [
            "The time of execution of above program is : 1.6269683837890625 ms\n",
            "Extra Tree Classifier accuracy: 67.57725033587103\n",
            "F1-Score:  64.5445641527914\n",
            "Precision:  66.90355329949239\n",
            "Recall:  62.34626300851467\n",
            "Sensitivity:  62.34626300851467\n",
            "Specificity:  72.27891156462584\n",
            "AUC (ROC):  67.31258728657026\n",
            "Error Rate:  32.42274966412897\n",
            "TPR:  62.34626300851467\n",
            "FPR:  27.721088435374156\n"
          ]
        }
      ],
      "source": [
        "#Extra Tree Classifier\n",
        "\n",
        "# record start time\n",
        "start = time.time()\n",
        " \n",
        "# define a sample code segment\n",
        "a = 0\n",
        "for i in range(1000):\n",
        "    a += (i**100)\n",
        " \n",
        "# record end time\n",
        "end = time.time()\n",
        " \n",
        "# print the difference between start\n",
        "# and end time in milli. secs\n",
        "print(\"The time of execution of above program is :\",\n",
        "      (end-start) * 10**3, \"ms\")\n",
        "\n",
        "\n",
        "from sklearn.ensemble import ExtraTreesClassifier\n",
        "etc=ExtraTreesClassifier()\n",
        "etc.fit(X_train,y_train)\n",
        "prediction = etc.predict(X_test)\n",
        "\n",
        "\n",
        "cr=classification_report(y_test,prediction, output_dict=True)\n",
        "acc = accuracy_score(y_test,prediction)*100\n",
        "print(\"Extra Tree Classifier accuracy:\",acc)\n",
        "accuracies['Extra Tree Classifier']=acc\n",
        "\n",
        "f1=f1_score(y_test,prediction)*100\n",
        "print(\"F1-Score: \",f1)\n",
        "f1scores['Extra Tree Classifier']=f1\n",
        "\n",
        "precision = precision_score(y_test, prediction)*100\n",
        "print('Precision: ',precision)\n",
        "precisions['Extra Tree Classifier']=precision\n",
        "\n",
        "recall = recall_score(y_test, prediction)*100\n",
        "print('Recall: ',recall)\n",
        "recalls['Extra Tree Classifier']=recall\n",
        "\n",
        "sensitivity=cr['1']['recall']*100\n",
        "print('Sensitivity: ',sensitivity)\n",
        "sensitivities['Extra Tree Classifier']=sensitivity\n",
        "\n",
        "specificity=cr['0']['recall']*100\n",
        "print('Specificity: ', specificity)\n",
        "specificities['Extra Tree Classifier']=specificity\n",
        "\n",
        "auc_roc_score = roc_auc_score(y_test, prediction)*100\n",
        "print('AUC (ROC): ', auc_roc_score)\n",
        "auc_roc_scores['Extra Tree Classifier']=auc_roc_score\n",
        "\n",
        "err=100-acc\n",
        "print(\"Error Rate: \",err)\n",
        "\n",
        "tpr=sensitivity\n",
        "print('TPR: ', tpr)\n",
        "\n",
        "fpr=100-specificity\n",
        "print('FPR: ', fpr)"
      ]
    },
    {
      "cell_type": "code",
      "execution_count": null,
      "metadata": {
        "colab": {
          "base_uri": "https://localhost:8080/",
          "height": 300
        },
        "id": "xt67De1MWpbv",
        "outputId": "019c4cc2-40ce-4fb4-9a5e-37406c6c4785"
      },
      "outputs": [
        {
          "data": {
            "image/png": "[encoded data removed]",
            "text/plain": [
              "<Figure size 432x288 with 2 Axes>"
            ]
          },
          "metadata": {
            "needs_background": "light"
          },
          "output_type": "display_data"
        }
      ],
      "source": [
        "cm=confusion_matrix(y_test,prediction)\n",
        "sns.heatmap(cm, annot=True,fmt=\".1f\",linewidths=3,square=True, cmap='PuBu',color=\"#cd1076\")\n",
        "plt.ylabel('actual label')\n",
        "plt.xlabel('predicted label')\n",
        "plt.title(\"Extra Tree Classifier\", fontsize=20)\n",
        "plt.show()"
      ]
    },
    {
      "cell_type": "code",
      "execution_count": null,
      "metadata": {
        "colab": {
          "base_uri": "https://localhost:8080/",
          "height": 295
        },
        "id": "S8rbt_OBeP5U",
        "outputId": "7e612abc-7793-453a-f1a3-05ffc59df9a5"
      },
      "outputs": [
        {
          "data": {
            "image/png": "[encoded data removed]",
            "text/plain": [
              "<Figure size 432x288 with 1 Axes>"
            ]
          },
          "metadata": {
            "needs_background": "light"
          },
          "output_type": "display_data"
        }
      ],
      "source": [
        "fpr, tpr, _ = roc_curve(y_test,  prediction)\n",
        "plt.plot(fpr,tpr,label=\"AUC=\"+str(auc_roc_score))\n",
        "plt.ylabel('True Positive Rate')\n",
        "plt.xlabel('False Positive Rate')\n",
        "plt.title('ROC Curve')\n",
        "plt.legend(loc=4)\n",
        "plt.show()"
      ]
    }
  ],
  "metadata": {
    "colab": {
      "collapsed_sections": [],
      "provenance": []
    },
    "kernelspec": {
      "display_name": "Python 3",
      "language": "python",
      "name": "python3"
    },
    "language_info": {
      "name": "python",
      "version": "3.10.4"
    },
    "vscode": {
      "interpreter": {
        "hash": "aee8b7b246df8f9039afb4144a1f6fd8d2ca17a180786b69acc140d282b71a49"
      }
    }
  },
  "nbformat": 4,
  "nbformat_minor": 0
}
